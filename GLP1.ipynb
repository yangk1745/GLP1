{
 "cells": [
  {
   "cell_type": "markdown",
   "id": "762b4ff0-a557-4306-b387-fb28a9f83efe",
   "metadata": {
    "id": "1UTzwEPKwwrx",
    "panel-layout": {
     "height": 119.703,
     "visible": true,
     "width": 100
    }
   },
   "source": [
    "\n",
    "\n",
    "\n",
    "Kuo Yang\n",
    "Modified 4/18/25\n",
    "FAERS Test\n",
    "data source: FDA Adverse Events Reporting System (FAERS, from FDA.gov)\n",
    "filtered for semaglutide, all cases, accessed 3/22/25"
   ]
  },
  {
   "cell_type": "markdown",
   "id": "41ea59fb-846a-4f41-b3a1-72114ee14d3c",
   "metadata": {
    "id": "Egn3Ul0hda4G",
    "panel-layout": {
     "height": 68.2812,
     "visible": true,
     "width": 100
    }
   },
   "source": [
    "Disclaimer: This is for academic coursework ONLY. Do not use for clinical decision making; no causations implied in analysis. See end of document for full disclosure/disclaimer."
   ]
  },
  {
   "cell_type": "code",
   "execution_count": null,
   "id": "0e910fa3-7d2e-49e0-a3ac-f00a7341cc31",
   "metadata": {
    "colab": {
     "base_uri": "https://localhost:8080/"
    },
    "executionInfo": {
     "elapsed": 1272,
     "status": "ok",
     "timestamp": 1743395631738,
     "user": {
      "displayName": "k yang",
      "userId": "17348518058419063176"
     },
     "user_tz": 420
    },
    "id": "L8hi4E4SUT3l",
    "outputId": "10a7fb45-df22-4b44-dfeb-f395a9fe7795"
   },
   "outputs": [],
   "source": [
    "import numpy as np\n",
    "import pandas as pd\n",
    "#smgtdf=pd.read_csv('smgt.csv')\n",
    "smgtdf = pd.read_excel('smglt.xlsx')\n",
    "lrgtdf = pd.read_excel('LGTD.xlsx')"
   ]
  },
  {
   "cell_type": "code",
   "execution_count": null,
   "id": "31636551-2530-461d-aa3a-1e5e6d65ad24",
   "metadata": {
    "panel-layout": {
     "height": 27.1406,
     "visible": true,
     "width": 100
    }
   },
   "outputs": [],
   "source": [
    "pd.set_option('display.max_columns', None)\n",
    "\n",
    "#DF meta check\n",
    "#print(\"Dimensions are:\",smgtdf.shape,'\\n***********')\n",
    "#print(\"Column Names:\",smgtdf.columns.to_list())\n",
    "#smgtdf.head(5)\n",
    "#meow function - dataframe QC\n",
    "def meow(x):\n",
    "    print(\"Dimensions are:\",x.shape,'\\n***********')\n",
    "    print(\"Column Names:\",x.columns.to_list())\n",
    "    print(x.head(5))\n",
    "meow(smgtdf)\n",
    "meow(lrgtdf)"
   ]
  },
  {
   "cell_type": "code",
   "execution_count": null,
   "id": "b5add083-aea6-452b-8e31-a9174e3056dc",
   "metadata": {
    "colab": {
     "base_uri": "https://localhost:8080/"
    },
    "executionInfo": {
     "elapsed": 58,
     "status": "ok",
     "timestamp": 1743397256775,
     "user": {
      "displayName": "k yang",
      "userId": "17348518058419063176"
     },
     "user_tz": 420
    },
    "id": "8gfwys32wEU7",
    "outputId": "6bcfc14e-7c4b-4b10-9fca-9a2f5045b24b",
    "panel-layout": {
     "height": 0,
     "visible": true,
     "width": 100
    }
   },
   "outputs": [],
   "source": [
    "varsel = list(['Case ID','Suspect Product Active Ingredients','Serious','Outcomes','Sex','Patient Age','Patient Weight','Reporter Type', 'Country where Event occurred','Compounded Flag'])\n",
    "smgtdfa = smgtdf[varsel]\n",
    "lrgtdfa = lrgtdf[varsel]\n",
    "meow(smgtdfa)\n",
    "meow(lrgtdfa)\n",
    "\n",
    "def meow2(df,clmn):\n",
    "    for i in clmn:\n",
    "        col1 = df[i].unique()\n",
    "        print('unique values of',i,'=',col1,'\\n',\"\\U0001F408\"*20)\n",
    "\n",
    "varsel2 = list(['Sex','Suspect Product Active Ingredients','Serious','Reporter Type','Country where Event occurred','Compounded Flag'])\n",
    "meow2(df=smgtdfa,clmn=varsel2)\n",
    "meow2(df=lrgtdfa,clmn=varsel2)\n",
    "\n",
    "#combine semaglutide+liraglutide\n",
    "glp1df = pd.concat([smgtdfa,lrgtdfa])\n",
    "print('GLP-1 Combined Data Frame \\n', '*'*50)\n",
    "glp1df.head()"
   ]
  },
  {
   "cell_type": "code",
   "execution_count": null,
   "id": "cef944df-c066-4ce5-8739-5ae605fccbd0",
   "metadata": {},
   "outputs": [],
   "source": [
    "glp1df['sex2'] = glp1df['Sex'].map({'Female':0,'Male':1,'Not Specified':3})\n",
    "glp1df['serious2'] = glp1df['Serious'].map({'Non-Serious':0,'Serious':1})\n",
    "glp1df['reporter2'] = glp1df['Reporter Type'].map({'Healthcare Professional':1,'Consumer':2,'Not Specified':3,'Other':4})\n",
    "glp1df['cmpndf'] = np.where(glp1df['Compounded Flag']== 'Yes', 1, 0)"
   ]
  },
  {
   "cell_type": "code",
   "execution_count": null,
   "id": "b048ca05-2028-431b-8aa8-7502a2839410",
   "metadata": {
    "panel-layout": {
     "height": 428,
     "visible": true,
     "width": 100
    }
   },
   "outputs": [],
   "source": [
    "glp1df.head()"
   ]
  },
  {
   "cell_type": "code",
   "execution_count": null,
   "id": "5742cbdc-f103-4526-a2c1-5586ddf8ef27",
   "metadata": {},
   "outputs": [],
   "source": [
    "#filter for only semaglutide and liraglutide API\n",
    "# Add a new column named 'Price'\n",
    "glp1df['api'] = [1 if x == 'Semaglutide' else 2 if x== 'Liraglutide' else 3 for x in glp1df['Suspect Product Active Ingredients']]\n",
    "glp1df2 = glp1df[glp1df['api'].isin([1,2])]\n",
    "glp1df2.head()"
   ]
  },
  {
   "cell_type": "code",
   "execution_count": null,
   "id": "9f87b57c-3f50-4410-983a-34e15cfbbc5f",
   "metadata": {},
   "outputs": [],
   "source": [
    "import hvplot.pandas\n",
    "import panel as pn"
   ]
  },
  {
   "cell_type": "code",
   "execution_count": null,
   "id": "ab4290ff-4f3b-4a21-89ad-117b31087c10",
   "metadata": {
    "panel-layout": {
     "height": 0,
     "visible": true,
     "width": 100
    }
   },
   "outputs": [],
   "source": [
    "frqt = glp1df['Serious'].value_counts()\n",
    "print(frqt,'\\n*******')\n",
    "\n",
    "#Using groupby to count frequencies across all combinations; this is data pipeline\n",
    "frqt2 = glp1df2.groupby(['Serious', 'Sex']).size().reset_index(name='Count')\n",
    "print(frqt2)\n",
    "print(frqt2.columns)\n",
    "\n",
    "\n",
    "#Multi-level cross-tabulation\n",
    "#print(\"\\nMulti-level cross-tabulation (Susp Pro API, Serious, Sex, Compounded Flag)\")\n",
    "#frqt_mt = pd.crosstab([glp1df2['Sex'],glp1df2['Compounded Flag'],glp1df2['Suspect Product Active Ingredients']], glp1df2['Serious'])\n",
    "#print(frqt_mt)\n",
    "\n",
    "\n",
    "#frqt2_multi_index = frqt2.query(\"yr<=80\").groupby(['yr', 'origin']).mean(numeric_only=True)\n",
    "#autompg_multi_index.head()\n",
    "\n",
    "#frqt3 = frqt2.reset_index()\n",
    "#print(frqt3)\n",
    "#print(frqt3.columns)\n",
    "#frqt3.head()\n",
    "#frqt3m = frqt3.melt(id_vars=['Serious'],value_vars=['Female','Male','Not Specified'],var_name='Sex',value_name='Counts')\n",
    "#print(frqt3m)"
   ]
  },
  {
   "cell_type": "code",
   "execution_count": null,
   "id": "1f9fa329-a32c-44f4-9352-576fd344837f",
   "metadata": {},
   "outputs": [],
   "source": [
    "#make data pipeline interactive (make frqt2 interactive)\n",
    "idf = glp1df2.interactive()\n",
    "\n",
    "#Define Panel Widgets\n",
    "api_w = pn.widgets.ToggleGroup(name='1=semaglutide, 2=liraglutide',options=[1,2],\n",
    "                               value=[1,2],button_type='success')\n",
    "\n",
    "#combine pipeline and widgets\n",
    "ipipeline = (\n",
    "    idf[\n",
    "    (idf.api.isin(api_w))\n",
    "    ]\n",
    "    .groupby(['Serious','Sex']).size().reset_index(name='Count')\n",
    ")\n",
    "\n",
    "ibarplot1 = ipipeline.hvplot.bar(x='Serious',y='Count',by='Sex',stacked=True,color=['hotpink','lightskyblue','mediumpurple'],\n",
    "                                 xlabel='Seriousness',ylabel='Number of Events',title='GLP-1 Adverse Events',ylim=(0,40000))\n",
    "ibarplot1"
   ]
  },
  {
   "cell_type": "code",
   "execution_count": null,
   "id": "a43c2d66-dba8-469a-8126-243b1bc24fbe",
   "metadata": {},
   "outputs": [],
   "source": [
    "pn.extension('tabulator')\n",
    "itable = ipipeline.pipe(pn.widgets.Tabulator, pagination='remote', page_size=10)\n",
    "itable"
   ]
  },
  {
   "cell_type": "code",
   "execution_count": null,
   "id": "e3ad32ec-5d69-4851-9112-e881b9e281e3",
   "metadata": {},
   "outputs": [],
   "source": [
    "#Layout using Template\n",
    "template = pn.template.FastListTemplate(\n",
    "    title='GLP-1 Adverse Events', sidebar=[\"Drug, 1=semaglutide,2=liraglutide\",api_w], main=[ibarplot1.panel(),itable.panel()]\n",
    ")\n",
    "template.servable()"
   ]
  },
  {
   "cell_type": "code",
   "execution_count": null,
   "id": "7c16e2af-d028-479d-98c1-cd2d5537f3e1",
   "metadata": {},
   "outputs": [],
   "source": [
    "frqt2.head()"
   ]
  },
  {
   "cell_type": "code",
   "execution_count": null,
   "id": "434fcd34-556c-4674-86bb-ba861af91899",
   "metadata": {
    "panel-layout": {
     "height": 728.141,
     "visible": true,
     "width": 100
    }
   },
   "outputs": [],
   "source": [
    "#frqt.plot(kind='bar',title='Serious Reactions')\n",
    "frqt2.hvplot.bar(x='Serious',y='Count',by='Sex',stacked=True,title='GLP-1 Adverse Events',color=['hotpink','lightskyblue','mediumpurple'],\n",
    "                 xlabel='Seriousness',ylabel='Number of Events')"
   ]
  },
  {
   "cell_type": "code",
   "execution_count": null,
   "id": "b693c740-e4f3-45a0-a517-e32d97b87c4b",
   "metadata": {
    "panel-layout": {
     "height": 728.141,
     "visible": true,
     "width": 100
    }
   },
   "outputs": [],
   "source": [
    "frqt2.plot.bar(rot=0, stacked=True)\n"
   ]
  },
  {
   "cell_type": "code",
   "execution_count": null,
   "id": "a1be82a8-d5a9-4eb8-b79d-8a8cefa57523",
   "metadata": {
    "panel-layout": {
     "height": 701,
     "visible": true,
     "width": 100
    }
   },
   "outputs": [],
   "source": [
    "import hvplot.pandas\n",
    "print(frqt)"
   ]
  },
  {
   "cell_type": "code",
   "execution_count": null,
   "id": "e6ffaa2b-b252-4f47-9fd0-2a191957dedb",
   "metadata": {
    "panel-layout": {
     "height": 1011,
     "visible": true,
     "width": 100
    }
   },
   "outputs": [],
   "source": [
    "frqt.hvplot.bar(x=\"Serious\")"
   ]
  },
  {
   "cell_type": "code",
   "execution_count": null,
   "id": "a8aefd4f-4116-4d34-baa2-27bc358b66b4",
   "metadata": {
    "panel-layout": {
     "height": 701,
     "visible": true,
     "width": 100
    }
   },
   "outputs": [],
   "source": [
    "print('frqt2:\\n',frqt2)\n",
    "print(frqt2.columns)\n",
    "print('frqt3 data frame:')\n",
    "print(frqt3,'\\n --*5')\n",
    "print('frqt3m data frame:')\n",
    "print(frqt3m)\n",
    "\n",
    "#frqt3 select specific olumns\n",
    "frqt3temp=frqt3[['Female','Male']]\n",
    "print(frqt3temp)"
   ]
  },
  {
   "cell_type": "code",
   "execution_count": null,
   "id": "2ce8f826-22ae-499d-b5e8-8099467f85ae",
   "metadata": {
    "panel-layout": {
     "height": 1011,
     "visible": true,
     "width": 100
    }
   },
   "outputs": [],
   "source": [
    "import hvplot.pandas\n",
    "import holoviews as hv\n",
    "import numpy as np\n",
    "import pandas as pd\n",
    "import panel as pn\n",
    "\n",
    "pn.extension()\n",
    "\n",
    "# Checkbox widget for selecting columns\n",
    "checkbox = pn.widgets.CheckBoxGroup(name='Sex:', options=list(frqt3.columns[1:]), \n",
    "                                    value=['Male','Female','Not Specified'])\n",
    "\n",
    "# Function to plot selected columns\n",
    "def plot(columns):\n",
    "    if not columns:\n",
    "        return pn.pane.Markdown(\"**Please select at least one column.**\")\n",
    "    return frqt3[columns].hvplot.bar(title=\"semaglutide Adverse Events\",stacked=True,\n",
    "                                     color=['hotpink', 'lightskyblue', 'mediumpurple'],xlabel='Seriousness',\n",
    "                                     ylabel='Number of Events',legend='top_right'\n",
    "                                    )\n",
    "\n",
    "# Bind the function to the widget correctly\n",
    "bound_plot = pn.bind(plot, columns=checkbox)\n",
    "\n",
    "# Layout: checkboxes on top, plot below\n",
    "layout = pn.Column(\"## Select Columns to Plot\", checkbox, bound_plot)\n",
    "\n",
    "# Show in notebook or serve as app\n",
    "layout.servable()"
   ]
  },
  {
   "cell_type": "code",
   "execution_count": null,
   "id": "2d7b725f-a46d-4fab-af81-a56e71aa1e27",
   "metadata": {},
   "outputs": [],
   "source": [
    "frqt3.hvplot.bar(x=\"Serious\",title=\"Selected Columns\",stacked=True)\n",
    "#print(list(frqt3.columns)[1:])"
   ]
  },
  {
   "cell_type": "code",
   "execution_count": null,
   "id": "e12fe0a6-abfc-4d04-ba7d-4c37894bc764",
   "metadata": {},
   "outputs": [],
   "source": [
    "bar_plot=frqt3.hvplot.bar(x=\"Serious\",stacked=True,color=['hotpink', 'lightskyblue', 'mediumpurple'],xlabel='Category',\n",
    "                         ylabel='Number of Events',legend='top_right',title='Semaglutide Adverse Events')\n",
    "component = pn.panel(bar_plot, sizing_mode=\"stretch_width\", )\n",
    "print(component)\n",
    "component.servable()\n",
    "\n",
    "# Create a Panel app\n",
    "app = pn.Column(\n",
    "    pn.pane.Markdown(\"# Interactive Bar Graph\"),\n",
    "    pn.pane.Markdown(\"A simple bar graph created with hvPlot and served with Panel.\"),\n",
    "    bar_plot\n",
    ")\n",
    "\n",
    "# Serve the app\n",
    "app.servable()"
   ]
  },
  {
   "cell_type": "code",
   "execution_count": null,
   "id": "1a205d9a-d711-4e2e-ae8e-8c3c9f59f314",
   "metadata": {},
   "outputs": [],
   "source": [
    "#Test area\n",
    "import pandas as pd\n",
    "import numpy as np\n",
    "import hvplot.pandas\n",
    "import panel as pn\n",
    "import holoviews as hv\n",
    "from holoviews import opts\n",
    "\n",
    "# Enable extensions\n",
    "pn.extension('hvplot')\n",
    "hv.extension('bokeh')\n",
    "\n",
    "# Create sample data with multiple categories\n",
    "data = {\n",
    "    'category': ['A', 'B', 'C', 'D', 'E'] * 3,\n",
    "    'values': [23, 48, 15, 37, 29, 31, 42, 19, 33, 27, 25, 51, 12, 39, 22],\n",
    "    'group': ['Group1', 'Group1', 'Group1', 'Group1', 'Group1', \n",
    "              'Group2', 'Group2', 'Group2', 'Group2', 'Group2',\n",
    "              'Group3', 'Group3', 'Group3', 'Group3', 'Group3']\n",
    "}\n",
    "df = pd.DataFrame(data)\n",
    "\n",
    "# Create checkboxes for each group\n",
    "group1_checkbox = pn.widgets.Checkbox(name='Group1', value=True)\n",
    "group2_checkbox = pn.widgets.Checkbox(name='Group2', value=True)\n",
    "group3_checkbox = pn.widgets.Checkbox(name='Group3', value=True)\n",
    "\n",
    "# Create checkbox for showing values on bars\n",
    "show_values = pn.widgets.Checkbox(name='Show Values', value=False)\n",
    "\n",
    "# Create checkbox for sorting bars\n",
    "sort_bars = pn.widgets.Checkbox(name='Sort Bars', value=False)\n",
    "\n",
    "# Create a function that updates the plot based on checkbox selections\n",
    "@pn.depends(group1=group1_checkbox, group2=group2_checkbox, group3=group3_checkbox, \n",
    "            show_val=show_values, sort=sort_bars)\n",
    "def create_bar_plot(group1, group2, group3, show_val, sort):\n",
    "    # Filter data based on checkbox selections\n",
    "    groups_to_include = []\n",
    "    if group1:\n",
    "        groups_to_include.append('Group1')\n",
    "    if group2:\n",
    "        groups_to_include.append('Group2')\n",
    "    if group3:\n",
    "        groups_to_include.append('Group3')\n",
    "    \n",
    "    filtered_df = df[df['group'].isin(groups_to_include)]\n",
    "    \n",
    "    # If no groups selected, return empty plot with message\n",
    "    if len(filtered_df) == 0:\n",
    "        return hv.Text(0, 0, 'Please select at least one group').opts(\n",
    "            width=600, height=400, text_font_size='20pt')\n",
    "    \n",
    "    # Sort if requested\n",
    "    if sort:\n",
    "        # Group by category and sum values, then sort\n",
    "        plot_df = filtered_df.groupby('category')['values'].sum().reset_index()\n",
    "        plot_df = plot_df.sort_values('values', ascending=False)\n",
    "    else:\n",
    "        # Group by category and sum values\n",
    "        plot_df = filtered_df.groupby('category')['values'].sum().reset_index()\n",
    "    \n",
    "    # Create the bar plot\n",
    "    bar_plot = plot_df.hvplot.bar(\n",
    "        x='category', \n",
    "        y='values',\n",
    "        title='Interactive Bar Chart',\n",
    "        color='category',\n",
    "        cmap='Category10',\n",
    "        height=400,\n",
    "        width=600\n",
    "    )\n",
    "    \n",
    "    # Add value labels if requested\n",
    "    if show_val:\n",
    "        labels = hv.Labels(\n",
    "            {\n",
    "                'x': plot_df['category'],\n",
    "                'y': plot_df['values'],\n",
    "                'text': [str(int(val)) for val in plot_df['values']]\n",
    "            },\n",
    "            ['x', 'y'], 'text'\n",
    "        ).opts(\n",
    "            opts.Labels(text_font_size='10pt', text_color='black', \n",
    "                       text_align='center', text_baseline='bottom',\n",
    "                       y_offset=5)\n",
    "        )\n",
    "        bar_plot = bar_plot * labels\n",
    "    \n",
    "    return bar_plot\n",
    "\n",
    "# Create a panel with the checkboxes and plot\n",
    "checkbox_group = pn.Column(\n",
    "    pn.pane.Markdown(\"### Filter by Group\"),\n",
    "    group1_checkbox,\n",
    "    group2_checkbox,\n",
    "    group3_checkbox,\n",
    "    pn.Spacer(height=20),\n",
    "    pn.pane.Markdown(\"### Options\"),\n",
    "    show_values,\n",
    "    sort_bars\n",
    ")\n",
    "\n",
    "# Create the main layout\n",
    "main_layout = pn.Row(\n",
    "    checkbox_group,\n",
    "    create_bar_plot,\n",
    "    sizing_mode='stretch_width'\n",
    ")\n",
    "\n",
    "# Create the app with a title\n",
    "app = pn.Column(\n",
    "    pn.pane.Markdown(\"# Interactive Bar Chart with Checkboxes\"),\n",
    "    pn.pane.Markdown(\"Use the checkboxes to filter data and customize the visualization.\"),\n",
    "    main_layout,\n",
    "    sizing_mode='stretch_width'\n",
    ")\n",
    "\n",
    "# Make it servable\n",
    "app.servable()\n",
    "\n",
    "# Display in notebook\n",
    "app"
   ]
  },
  {
   "cell_type": "code",
   "execution_count": null,
   "id": "ff700579-54c0-4cf7-b0f2-3c6127019b9c",
   "metadata": {},
   "outputs": [],
   "source": [
    "import pandas as pd\n",
    "import hvplot.pandas\n",
    "import panel as pn\n",
    "\n",
    "pn.extension\n",
    "\n",
    "# Sample DataFrame\n",
    "df = pd.DataFrame({\n",
    "    'A': [3, 5, 2],\n",
    "    'B': [4, 1, 7],\n",
    "    'C': [6, 3, 5]\n",
    "}, index=['Item 1', 'Item 2', 'Item 3'])\n",
    "\n",
    "# Checkbox widget for selecting columns\n",
    "checkbox = pn.widgets.CheckBoxGroup(name='Select Columns', options=list(df.columns), value=['A'])\n",
    "\n",
    "# Function to plot selected columns\n",
    "def plot(columns):\n",
    "    if not columns:\n",
    "        return pn.pane.Markdown(\"**Please select at least one column.**\")\n",
    "    return df[columns].hvplot(kind='bar', title=\"Selected Columns\")\n",
    "\n",
    "# Bind the function to the widget correctly\n",
    "bound_plot = pn.bind(plot, columns=checkbox)\n",
    "\n",
    "# Layout: checkboxes on top, plot below\n",
    "layout = pn.Column(\"## Select Columns to Plot\", checkbox, bound_plot)\n",
    "\n",
    "# Show in notebook or serve as app\n",
    "layout.servable()\n"
   ]
  },
  {
   "cell_type": "markdown",
   "id": "d377749b-bacf-4a03-9e29-bf0d60b70782",
   "metadata": {
    "id": "5dWwtQ1_eZ29",
    "panel-layout": {
     "height": 534.094,
     "visible": true,
     "width": 100
    }
   },
   "source": [
    "# All Data from FDA Adverse Events Reporting System (FAERS)\n",
    "While the FAERS dashboard offers stakeholders many more ways of searching for and organizing data on adverse events reported to the FDA for many drug and biologic products, there remain limitations to the data. For example, while FAERS contains reports on a particular drug or biologic, this does not mean that the drug or biologic caused the adverse event. Importantly, the FAERS data by themselves are not an indicator of the safety profile of the drug or biologic. Some additional limitations to note include:\n",
    "\n",
    "Duplicate and incomplete reports are in the system: There are many instances of duplicative reports and some reports do not contain all the necessary information.\n",
    "Existence of a report does not establish causation: For any given report, there is no certainty that a suspected drug caused the event.  While consumers and healthcare professionals are encouraged to report adverse events, the event may have been related to the underlying disease being treated, or caused by some other drug being taken concurrently, or occurred for other reasons. The information in these reports reflects only the reporter's observations and opinions.\n",
    "Information in reports has not been verified: Submission of a report does not mean that the information included in it has been medically confirmed nor it is an admission from the reporter that the drug caused or contributed the event.\n",
    "Rates of occurrence cannot be established with reports: The information in these reports cannot be used to estimate the incidence (occurrence rates) of the events reported.\n",
    "Patients should talk to their doctor before stopping or changing how they take their medications.\n",
    "Improving data access and transparency are core concepts that drove the development of this FAERS Dashboard.  The FDA anticipates that this increased transparency will help to spur the submission of more detailed and complete reports from consumers, health care providers and other members of the public. Complete and detailed reports are immensely helpful to the agency when identifying safety signals and choosing particular products for further scrutiny."
   ]
  },
  {
   "cell_type": "code",
   "execution_count": null,
   "id": "24e04813-592b-41de-b4e3-3abb0c3ffd15",
   "metadata": {},
   "outputs": [],
   "source": [
    "#test area\n",
    "import pandas as pd\n",
    "import hvplot.pandas\n",
    "import holoviews as hv\n",
    "\n",
    "# Sample dataframe\n",
    "data = {'category': ['A', 'A', 'B', 'B', 'C', 'C'],\n",
    "        'value': [10, 15, 20, 25, 30, 35]}\n",
    "df = pd.DataFrame(data)\n",
    "\n",
    "# Group by category and create bar plots\n",
    "bar_plots = df.groupby('category')['value'].hvplot.bar()\n",
    "\n",
    "# Add interactive elements (e.g., checkboxes)\n",
    "bar_plots.opts(hv.Plot(), tools=['toggle'])\n",
    "\n",
    "# Display the interactive plot\n",
    "bar_plots"
   ]
  },
  {
   "cell_type": "code",
   "execution_count": null,
   "id": "1dddbd2e-d4aa-428a-a6bc-0a9c390cb23f",
   "metadata": {},
   "outputs": [],
   "source": [
    "import pandas as pd\n",
    "import numpy as np\n",
    "import matplotlib.pyplot as plt\n",
    "import seaborn as sns\n",
    "\n",
    "# Create sample data with 4 categorical variables\n",
    "np.random.seed(42)\n",
    "data = {\n",
    "    'Gender': np.random.choice(['Male', 'Female', 'Other'], 1000),\n",
    "    'Education': np.random.choice(['High School', 'Bachelor', 'Master', 'PhD'], 1000),\n",
    "    'Region': np.random.choice(['North', 'South', 'East', 'West', 'Central'], 1000),\n",
    "    'Age_Group': np.random.choice(['18-25', '26-35', '36-45', '46+'], 1000)\n",
    "}\n",
    "\n",
    "df = pd.DataFrame(data)\n",
    "\n",
    "print(\"Sample data:\")\n",
    "print(df.head())\n",
    "print(\"\\n\")\n",
    "\n",
    "# Method 1: Individual frequency tables for each variable\n",
    "print(\"Method 1: Individual frequency tables\")\n",
    "for column in df.columns:\n",
    "    print(f\"\\nFrequency table for {column}:\")\n",
    "    freq_table = df[column].value_counts().reset_index()\n",
    "    freq_table.columns = [column, 'Count']\n",
    "    print(freq_table)\n",
    "    # Add percentage\n",
    "    freq_table['Percentage'] = (freq_table['Count'] / freq_table['Count'].sum() * 100).round(2)\n",
    "    print(freq_table)\n",
    "\n",
    "# Method 2: Cross-tabulation between two variables\n",
    "print(\"\\nMethod 2: Cross-tabulation between Gender and Education\")\n",
    "cross_tab = pd.crosstab(df['Gender'], df['Education'])\n",
    "print(cross_tab)\n",
    "\n",
    "# Method 3: Cross-tabulation with percentages\n",
    "print(\"\\nMethod 3: Cross-tabulation with percentages\")\n",
    "cross_tab_pct = pd.crosstab(df['Gender'], df['Education'], normalize='index') * 100\n",
    "print(cross_tab_pct.round(2))\n",
    "\n",
    "# Method 4: Multi-level cross-tabulation (3 variables)\n",
    "print(\"\\nMethod 4: Multi-level cross-tabulation (Gender, Education, Region)\")\n",
    "multi_tab = pd.crosstab([df['Gender'], df['Education']], df['Region'])\n",
    "print(multi_tab)\n",
    "\n",
    "# Method 5: Using groupby to count frequencies across all combinations\n",
    "print(\"\\nMethod 5: Groupby frequency count across all 4 variables\")\n",
    "grouped = df.groupby(['Gender', 'Education', 'Region', 'Age_Group']).size().reset_index(name='Count')\n",
    "print(grouped.sort_values('Count', ascending=False).head(10))  # Top 10 combinations\n",
    "\n",
    "# Method 6: Pivot table for 3 variables with aggregation\n",
    "print(\"\\nMethod 6: Pivot table with Gender, Education, and Region\")\n",
    "pivot = pd.pivot_table(df, index=['Gender', 'Education'], \n",
    "                      columns='Region', \n",
    "                      values='Age_Group', \n",
    "                      aggfunc='count',\n",
    "                      fill_value=0)\n",
    "print(pivot)\n",
    "\n",
    "# Method 7: Visualizing frequencies with heatmap\n",
    "print(\"\\nMethod 7: Visualizing with heatmap (check the plot)\")\n",
    "plt.figure(figsize=(12, 8))\n",
    "cross_tab_plot = pd.crosstab(df['Gender'], df['Education'])\n",
    "sns.heatmap(cross_tab_plot, annot=True, cmap='YlGnBu', fmt='d')\n",
    "plt.title('Frequency Distribution: Gender vs Education')\n",
    "plt.tight_layout()\n",
    "# plt.show()  # Uncomment to display the plot"
   ]
  },
  {
   "cell_type": "code",
   "execution_count": null,
   "id": "ae6fe10e-a802-4de8-b402-7c0093bd60dc",
   "metadata": {},
   "outputs": [],
   "source": []
  }
 ],
 "metadata": {
  "kernelspec": {
   "display_name": "anaconda-ai-2024.04-py310",
   "language": "python",
   "name": "conda-env-anaconda-ai-2024.04-py310-py"
  },
  "language_info": {
   "codemirror_mode": {
    "name": "ipython",
    "version": 3
   },
   "file_extension": ".py",
   "mimetype": "text/x-python",
   "name": "python",
   "nbconvert_exporter": "python",
   "pygments_lexer": "ipython3",
   "version": "3.10.13"
  },
  "panel-cell-order": [
   "762b4ff0-a557-4306-b387-fb28a9f83efe",
   "41ea59fb-846a-4f41-b3a1-72114ee14d3c",
   "31636551-2530-461d-aa3a-1e5e6d65ad24",
   "b5add083-aea6-452b-8e31-a9174e3056dc",
   "b048ca05-2028-431b-8aa8-7502a2839410",
   "ab4290ff-4f3b-4a21-89ad-117b31087c10",
   "434fcd34-556c-4674-86bb-ba861af91899",
   "d377749b-bacf-4a03-9e29-bf0d60b70782",
   "b693c740-e4f3-45a0-a517-e32d97b87c4b",
   "a1be82a8-d5a9-4eb8-b79d-8a8cefa57523",
   "e6ffaa2b-b252-4f47-9fd0-2a191957dedb",
   "a8aefd4f-4116-4d34-baa2-27bc358b66b4",
   "2ce8f826-22ae-499d-b5e8-8099467f85ae"
  ]
 },
 "nbformat": 4,
 "nbformat_minor": 5
}
