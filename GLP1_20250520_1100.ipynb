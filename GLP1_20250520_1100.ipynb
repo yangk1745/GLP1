{
 "cells": [
  {
   "cell_type": "markdown",
   "id": "762b4ff0-a557-4306-b387-fb28a9f83efe",
   "metadata": {
    "id": "1UTzwEPKwwrx",
    "panel-layout": {
     "height": 119.703,
     "visible": true,
     "width": 100
    }
   },
   "source": [
    "\n",
    "\n",
    "\n",
    "Kuo Yang\n",
    "Modified 5/20/25, 1pm PDT\n",
    "GLP1 Data Cleaning\n",
    "FAERS\n",
    "data source: FDA Adverse Events Reporting System (FAERS, from FDA.gov)\n",
    "filtered for dulaglutide, exenatide, liraglutide, semaglutide, tirzapetide, all cases, accessed 5/19/25"
   ]
  },
  {
   "cell_type": "markdown",
   "id": "41ea59fb-846a-4f41-b3a1-72114ee14d3c",
   "metadata": {
    "id": "Egn3Ul0hda4G",
    "panel-layout": {
     "height": 68.2812,
     "visible": true,
     "width": 100
    }
   },
   "source": [
    "Disclaimer: This is for academic coursework ONLY. Do not use for clinical decision making; no causations implied in analysis. See end of document for full disclosure/disclaimer."
   ]
  },
  {
   "cell_type": "code",
   "execution_count": 14,
   "id": "0e910fa3-7d2e-49e0-a3ac-f00a7341cc31",
   "metadata": {
    "colab": {
     "base_uri": "https://localhost:8080/"
    },
    "execution": {
     "iopub.execute_input": "2025-05-20T18:30:52.863520Z",
     "iopub.status.busy": "2025-05-20T18:30:52.863123Z",
     "iopub.status.idle": "2025-05-20T18:30:57.872995Z",
     "shell.execute_reply": "2025-05-20T18:30:57.872466Z",
     "shell.execute_reply.started": "2025-05-20T18:30:52.863497Z"
    },
    "executionInfo": {
     "elapsed": 1272,
     "status": "ok",
     "timestamp": 1743395631738,
     "user": {
      "displayName": "k yang",
      "userId": "17348518058419063176"
     },
     "user_tz": 420
    },
    "id": "L8hi4E4SUT3l",
    "outputId": "10a7fb45-df22-4b44-dfeb-f395a9fe7795"
   },
   "outputs": [],
   "source": [
    "import numpy as np\n",
    "import pandas as pd\n",
    "from pandas.api.types import is_integer_dtype\n",
    "#import hvplot.pandas\n",
    "#import holoviews as hv\n",
    "#import panel as pn\n",
    "#hv.extension('bokeh')\n",
    "#pn.extension('tabulator')\n",
    "#from bokeh.models.formatters import NumeralTickFormatter\n",
    "#pn.extension(sizing_mode='stretch_width')\n"
   ]
  },
  {
   "cell_type": "code",
   "execution_count": 15,
   "id": "e787fadc",
   "metadata": {
    "execution": {
     "iopub.execute_input": "2025-05-20T18:31:29.477214Z",
     "iopub.status.busy": "2025-05-20T18:31:29.476879Z",
     "iopub.status.idle": "2025-05-20T18:32:49.421137Z",
     "shell.execute_reply": "2025-05-20T18:32:49.420336Z",
     "shell.execute_reply.started": "2025-05-20T18:31:29.477190Z"
    }
   },
   "outputs": [],
   "source": [
    "dlgtdf = pd.read_excel('d_dlgt.xlsx') #dulaglutide\n",
    "exntdf = pd.read_excel('d_exnt.xlsx') #exenatide\n",
    "lrgtdf = pd.read_excel('d_lrgt.xlsx') #liraglutide\n",
    "smgtadf = pd.read_excel('d_smgt_a.xlsx') #semalutide\n",
    "smgtbdf = pd.read_excel('d_smgt_b.xlsx')\n",
    "tzptadf = pd.read_excel('d_tzpt_a.xlsx') #tirzapetide\n",
    "tzptbdf = pd.read_excel('d_tzpt_b.xlsx')"
   ]
  },
  {
   "cell_type": "markdown",
   "id": "2e9deb0d",
   "metadata": {},
   "source": [
    "Create new column \"api1\", dulaglutide=1, exenatide=2, liraglutide=3,semaglutide=4,tirzapetide=5"
   ]
  },
  {
   "cell_type": "code",
   "execution_count": 16,
   "id": "634f5c7b",
   "metadata": {
    "execution": {
     "iopub.execute_input": "2025-05-20T18:35:27.022539Z",
     "iopub.status.busy": "2025-05-20T18:35:27.022255Z",
     "iopub.status.idle": "2025-05-20T18:35:27.028606Z",
     "shell.execute_reply": "2025-05-20T18:35:27.027870Z",
     "shell.execute_reply.started": "2025-05-20T18:35:27.022519Z"
    }
   },
   "outputs": [],
   "source": [
    "dlgtdf['api1']=1\n",
    "exntdf['api1']=2\n",
    "lrgtdf['api1']=3\n",
    "smgtadf['api1']=4\n",
    "smgtbdf['api1']=4\n",
    "tzptadf['api1']=5\n",
    "tzptbdf['api1']=5"
   ]
  },
  {
   "cell_type": "code",
   "execution_count": 17,
   "id": "9a92da29",
   "metadata": {
    "execution": {
     "iopub.execute_input": "2025-05-20T03:42:39.539082Z",
     "iopub.status.busy": "2025-05-20T03:42:39.538518Z",
     "iopub.status.idle": "2025-05-20T03:42:39.652889Z",
     "shell.execute_reply": "2025-05-20T03:42:39.652209Z",
     "shell.execute_reply.started": "2025-05-20T03:42:39.539053Z"
    }
   },
   "outputs": [],
   "source": [
    "glp1df = pd.concat([dlgtdf,exntdf,lrgtdf,smgtadf,smgtbdf,tzptadf,tzptbdf],ignore_index=True)"
   ]
  },
  {
   "cell_type": "code",
   "execution_count": 18,
   "id": "31636551-2530-461d-aa3a-1e5e6d65ad24",
   "metadata": {
    "execution": {
     "iopub.execute_input": "2025-05-20T03:42:47.112390Z",
     "iopub.status.busy": "2025-05-20T03:42:47.112117Z",
     "iopub.status.idle": "2025-05-20T03:42:47.380184Z",
     "shell.execute_reply": "2025-05-20T03:42:47.379436Z",
     "shell.execute_reply.started": "2025-05-20T03:42:47.112371Z"
    },
    "panel-layout": {
     "height": 27.1406,
     "visible": true,
     "width": 100
    }
   },
   "outputs": [
    {
     "name": "stdout",
     "output_type": "stream",
     "text": [
      "<class 'pandas.core.frame.DataFrame'>\n",
      "RangeIndex: 300554 entries, 0 to 300553\n",
      "Data columns (total 25 columns):\n",
      " #   Column                              Non-Null Count   Dtype \n",
      "---  ------                              --------------   ----- \n",
      " 0   Case ID                             300554 non-null  int64 \n",
      " 1   Suspect Product Names               300554 non-null  object\n",
      " 2   Suspect Product Active Ingredients  300554 non-null  object\n",
      " 3   Reason for Use                      300554 non-null  object\n",
      " 4   Reactions                           300554 non-null  object\n",
      " 5   Serious                             300554 non-null  object\n",
      " 6   Outcomes                            300554 non-null  object\n",
      " 7   Sex                                 300554 non-null  object\n",
      " 8   Event Date                          300554 non-null  object\n",
      " 9   Latest FDA Received Date            300554 non-null  object\n",
      " 10  Case Priority                       300554 non-null  object\n",
      " 11  Patient Age                         300554 non-null  object\n",
      " 12  Patient Weight                      300554 non-null  object\n",
      " 13  Sender                              300554 non-null  object\n",
      " 14  Reporter Type                       300554 non-null  object\n",
      " 15  Report Source                       300554 non-null  object\n",
      " 16  Concomitant Product Names           300554 non-null  object\n",
      " 17  Latest Manufacturer Received Date   300554 non-null  object\n",
      " 18  Initial FDA Received Date           300554 non-null  object\n",
      " 19  Country where Event occurred        300554 non-null  object\n",
      " 20  Reported to Manufacturer?           300554 non-null  object\n",
      " 21  Manufacturer Control Number         300554 non-null  object\n",
      " 22  Literature Reference                300554 non-null  object\n",
      " 23  Compounded Flag                     300554 non-null  object\n",
      " 24  api1                                300554 non-null  int64 \n",
      "dtypes: int64(2), object(23)\n",
      "memory usage: 57.3+ MB\n"
     ]
    }
   ],
   "source": [
    "glp1df.info()"
   ]
  },
  {
   "cell_type": "code",
   "execution_count": 19,
   "id": "dee58e38",
   "metadata": {
    "execution": {
     "iopub.execute_input": "2025-05-20T03:42:57.232443Z",
     "iopub.status.busy": "2025-05-20T03:42:57.231949Z",
     "iopub.status.idle": "2025-05-20T03:42:57.236147Z",
     "shell.execute_reply": "2025-05-20T03:42:57.235374Z",
     "shell.execute_reply.started": "2025-05-20T03:42:57.232421Z"
    }
   },
   "outputs": [
    {
     "name": "stdout",
     "output_type": "stream",
     "text": [
      "Index(['Case ID', 'Suspect Product Names',\n",
      "       'Suspect Product Active Ingredients', 'Reason for Use', 'Reactions',\n",
      "       'Serious', 'Outcomes', 'Sex', 'Event Date', 'Latest FDA Received Date',\n",
      "       'Case Priority', 'Patient Age', 'Patient Weight', 'Sender',\n",
      "       'Reporter Type', 'Report Source', 'Concomitant Product Names',\n",
      "       'Latest Manufacturer Received Date', 'Initial FDA Received Date',\n",
      "       'Country where Event occurred', 'Reported to Manufacturer?',\n",
      "       'Manufacturer Control Number', 'Literature Reference',\n",
      "       'Compounded Flag', 'api1'],\n",
      "      dtype='object')\n"
     ]
    }
   ],
   "source": [
    "print(glp1df.columns)"
   ]
  },
  {
   "cell_type": "code",
   "execution_count": 20,
   "id": "b5add083-aea6-452b-8e31-a9174e3056dc",
   "metadata": {
    "colab": {
     "base_uri": "https://localhost:8080/"
    },
    "execution": {
     "iopub.execute_input": "2025-05-20T03:43:02.690291Z",
     "iopub.status.busy": "2025-05-20T03:43:02.689637Z",
     "iopub.status.idle": "2025-05-20T03:43:02.819205Z",
     "shell.execute_reply": "2025-05-20T03:43:02.818243Z",
     "shell.execute_reply.started": "2025-05-20T03:43:02.690256Z"
    },
    "executionInfo": {
     "elapsed": 58,
     "status": "ok",
     "timestamp": 1743397256775,
     "user": {
      "displayName": "k yang",
      "userId": "17348518058419063176"
     },
     "user_tz": 420
    },
    "id": "8gfwys32wEU7",
    "outputId": "6bcfc14e-7c4b-4b10-9fca-9a2f5045b24b",
    "panel-layout": {
     "height": 0,
     "visible": true,
     "width": 100
    }
   },
   "outputs": [
    {
     "name": "stdout",
     "output_type": "stream",
     "text": [
      "unique values of Sex = ['Male' 'Female' 'Not Specified'] \n",
      " 🐈🐈🐈🐈🐈🐈🐈🐈🐈🐈🐈🐈🐈🐈🐈🐈🐈🐈🐈🐈\n",
      "unique values of Serious = ['Non-Serious' 'Serious'] \n",
      " 🐈🐈🐈🐈🐈🐈🐈🐈🐈🐈🐈🐈🐈🐈🐈🐈🐈🐈🐈🐈\n",
      "unique values of Outcomes = ['Non-Serious' 'Hospitalized' 'Other Outcomes;Hospitalized'\n",
      " 'Other Outcomes' 'Required Intervention;Hospitalized'\n",
      " 'Hospitalized;Other Outcomes'\n",
      " 'Other Outcomes;Life Threatening;Hospitalized' 'Hospitalized;Died'\n",
      " 'Life Threatening' 'Disabled' 'Died;Hospitalized' 'Died'\n",
      " 'Hospitalized;Required Intervention' 'Other Outcomes;Life Threatening'\n",
      " 'Hospitalized;Other Outcomes;Life Threatening'\n",
      " 'Died;Hospitalized;Other Outcomes' 'Life Threatening;Other Outcomes'\n",
      " 'Other Outcomes;Died' 'Hospitalized;Disabled;Other Outcomes'\n",
      " 'Congenital Anomaly;Other Outcomes;Hospitalized'\n",
      " 'Hospitalized;Died;Other Outcomes'\n",
      " 'Required Intervention;Hospitalized;Life Threatening'\n",
      " 'Congenital Anomaly;Other Outcomes'\n",
      " 'Life Threatening;Other Outcomes;Hospitalized'\n",
      " 'Hospitalized;Life Threatening;Other Outcomes'\n",
      " 'Life Threatening;Hospitalized' 'Other Outcomes;Hospitalized;Died'\n",
      " 'Died;Other Outcomes'\n",
      " 'Hospitalized;Life Threatening;Required Intervention'\n",
      " 'Hospitalized;Life Threatening;Required Intervention;Disabled;Other Outcomes'\n",
      " 'Other Outcomes;Disabled' 'Disabled;Other Outcomes'\n",
      " 'Life Threatening;Hospitalized;Disabled'\n",
      " 'Hospitalized;Other Outcomes;Died' 'Congenital Anomaly'\n",
      " 'Other Outcomes;Congenital Anomaly' 'Required Intervention'\n",
      " 'Required Intervention;Life Threatening;Other Outcomes'\n",
      " 'Life Threatening;Disabled'\n",
      " 'Life Threatening;Hospitalized;Other Outcomes' 'Life Threatening;Died'\n",
      " 'Disabled;Hospitalized;Other Outcomes'\n",
      " 'Other Outcomes;Disabled;Hospitalized'\n",
      " 'Life Threatening;Other Outcomes;Disabled;Hospitalized;Died;Required Intervention'\n",
      " 'Disabled;Other Outcomes;Hospitalized' 'Hospitalized;Life Threatening'\n",
      " 'Life Threatening;Required Intervention'\n",
      " 'Other Outcomes;Required Intervention' 'Died;Other Outcomes;Hospitalized'\n",
      " 'Life Threatening;Required Intervention;Disabled' 'Disabled;Hospitalized'\n",
      " 'Hospitalized;Disabled' 'Life Threatening;Died;Hospitalized;Disabled'\n",
      " 'Other Outcomes;Required Intervention;Life Threatening;Hospitalized'\n",
      " 'Required Intervention;Disabled' 'Life Threatening;Disabled;Hospitalized'\n",
      " 'Required Intervention;Disabled;Life Threatening;Hospitalized'\n",
      " 'Other Outcomes;Life Threatening;Disabled'\n",
      " 'Hospitalized;Life Threatening;Required Intervention;Disabled'\n",
      " 'Disabled;Other Outcomes;Life Threatening'\n",
      " 'Other Outcomes;Hospitalized;Life Threatening'\n",
      " 'Other Outcomes;Hospitalized;Disabled' 'Disabled;Life Threatening'\n",
      " 'Disabled;Hospitalized;Required Intervention;Died;Life Threatening'\n",
      " 'Required Intervention;Disabled;Hospitalized'\n",
      " 'Died;Life Threatening;Hospitalized' 'Life Threatening;Hospitalized;Died'\n",
      " 'Other Outcomes;Died;Hospitalized' 'Disabled;Required Intervention'\n",
      " 'Required Intervention;Other Outcomes'\n",
      " 'Life Threatening;Hospitalized;Disabled;Required Intervention'\n",
      " 'Died;Other Outcomes;Life Threatening'\n",
      " 'Died;Hospitalized;Life Threatening'\n",
      " 'Life Threatening;Required Intervention;Hospitalized'\n",
      " 'Disabled;Other Outcomes;Life Threatening;Hospitalized'\n",
      " 'Hospitalized;Required Intervention;Life Threatening'\n",
      " 'Other Outcomes;Died;Life Threatening'\n",
      " 'Disabled;Hospitalized;Life Threatening'\n",
      " 'Died;Hospitalized;Life Threatening;Other Outcomes'\n",
      " 'Hospitalized;Other Outcomes;Died;Life Threatening'\n",
      " 'Other Outcomes;Disabled;Required Intervention' 'Disabled;Died'\n",
      " 'Hospitalized;Life Threatening;Disabled'\n",
      " 'Other Outcomes;Hospitalized;Life Threatening;Disabled'\n",
      " 'Died;Other Outcomes;Disabled'\n",
      " 'Other Outcomes;Disabled;Life Threatening;Hospitalized'\n",
      " 'Life Threatening;Died;Other Outcomes;Hospitalized'\n",
      " 'Required Intervention;Hospitalized;Other Outcomes'\n",
      " 'Hospitalized;Congenital Anomaly;Life Threatening'\n",
      " 'Life Threatening;Died;Hospitalized'\n",
      " 'Disabled;Life Threatening;Other Outcomes'\n",
      " 'Hospitalized;Other Outcomes;Disabled'\n",
      " 'Hospitalized;Other Outcomes;Disabled;Life Threatening'\n",
      " 'Died;Other Outcomes;Life Threatening;Hospitalized'\n",
      " 'Hospitalized;Disabled;Life Threatening;Other Outcomes'\n",
      " 'Other Outcomes;Died;Hospitalized;Life Threatening'\n",
      " 'Hospitalized;Died;Life Threatening'\n",
      " 'Other Outcomes;Hospitalized;Died;Life Threatening'\n",
      " 'Disabled;Hospitalized;Life Threatening;Other Outcomes'\n",
      " 'Disabled;Other Outcomes;Hospitalized;Life Threatening'\n",
      " 'Hospitalized;Disabled;Life Threatening'\n",
      " 'Life Threatening;Other Outcomes;Died'\n",
      " 'Hospitalized;Died;Other Outcomes;Life Threatening'\n",
      " 'Hospitalized;Died;Other Outcomes;Disabled'\n",
      " 'Died;Disabled;Other Outcomes'\n",
      " 'Life Threatening;Hospitalized;Died;Disabled;Other Outcomes'\n",
      " 'Died;Life Threatening;Disabled;Other Outcomes;Hospitalized'\n",
      " 'Life Threatening;Died;Other Outcomes' 'Other Outcomes;Died;Disabled'\n",
      " 'Disabled;Died;Other Outcomes'\n",
      " 'Disabled;Other Outcomes;Hospitalized;Died'\n",
      " 'Hospitalized;Congenital Anomaly'\n",
      " 'Other Outcomes;Hospitalized;Disabled;Died'\n",
      " 'Disabled;Life Threatening;Hospitalized;Other Outcomes'\n",
      " 'Hospitalized;Life Threatening;Died'\n",
      " 'Hospitalized;Other Outcomes;Life Threatening;Disabled'\n",
      " 'Life Threatening;Disabled;Other Outcomes;Required Intervention'\n",
      " 'Died;Disabled' 'Life Threatening;Other Outcomes;Died;Hospitalized'\n",
      " 'Died;Other Outcomes;Hospitalized;Disabled'\n",
      " 'Congenital Anomaly;Hospitalized'\n",
      " 'Hospitalized;Life Threatening;Other Outcomes;Died'\n",
      " 'Hospitalized;Other Outcomes;Life Threatening;Died'\n",
      " 'Died;Disabled;Hospitalized;Other Outcomes'\n",
      " 'Hospitalized;Disabled;Died;Other Outcomes'\n",
      " 'Hospitalized;Died;Disabled;Other Outcomes'\n",
      " 'Life Threatening;Disabled;Hospitalized;Other Outcomes'\n",
      " 'Other Outcomes;Died;Disabled;Hospitalized'\n",
      " 'Died;Other Outcomes;Hospitalized;Life Threatening'\n",
      " 'Died;Life Threatening;Other Outcomes;Hospitalized'\n",
      " 'Disabled;Life Threatening;Other Outcomes;Hospitalized'\n",
      " 'Life Threatening;Hospitalized;Other Outcomes;Died'\n",
      " 'Disabled;Life Threatening;Hospitalized;Died;Other Outcomes'\n",
      " 'Life Threatening;Died;Hospitalized;Other Outcomes'\n",
      " 'Disabled;Hospitalized;Died;Other Outcomes;Life Threatening'\n",
      " 'Died;Other Outcomes;Life Threatening;Hospitalized;Disabled'\n",
      " 'Died;Other Outcomes;Disabled;Hospitalized;Life Threatening'\n",
      " 'Died;Life Threatening;Other Outcomes'\n",
      " 'Died;Disabled;Other Outcomes;Hospitalized'\n",
      " 'Hospitalized;Life Threatening;Died;Other Outcomes'\n",
      " 'Required Intervention;Other Outcomes;Hospitalized;Life Threatening'\n",
      " 'Died;Life Threatening;Hospitalized;Other Outcomes'\n",
      " 'Hospitalized;Died;Other Outcomes;Life Threatening;Disabled'\n",
      " 'Hospitalized;Disabled;Other Outcomes;Died'\n",
      " 'Other Outcomes;Hospitalized;Died;Disabled'\n",
      " 'Life Threatening;Hospitalized;Disabled;Died;Other Outcomes'\n",
      " 'Hospitalized;Died;Life Threatening;Other Outcomes'\n",
      " 'Disabled;Life Threatening;Hospitalized'\n",
      " 'Hospitalized;Disabled;Other Outcomes;Life Threatening;Died'\n",
      " 'Disabled;Died;Other Outcomes;Hospitalized'\n",
      " 'Died;Hospitalized;Disabled;Other Outcomes'\n",
      " 'Life Threatening;Other Outcomes;Died;Disabled'\n",
      " 'Life Threatening;Died;Disabled;Other Outcomes'\n",
      " 'Died;Other Outcomes;Required Intervention'\n",
      " 'Died;Disabled;Other Outcomes;Life Threatening;Hospitalized'\n",
      " 'Other Outcomes;Hospitalized;Life Threatening;Died'\n",
      " 'Life Threatening;Other Outcomes;Hospitalized;Died;Disabled'\n",
      " 'Disabled;Life Threatening;Other Outcomes;Hospitalized;Died'\n",
      " 'Hospitalized;Died;Life Threatening;Disabled;Other Outcomes'\n",
      " 'Life Threatening;Disabled;Other Outcomes'\n",
      " 'Hospitalized;Other Outcomes;Life Threatening;Disabled;Died'\n",
      " 'Disabled;Other Outcomes;Died;Hospitalized'\n",
      " 'Life Threatening;Died;Disabled;Hospitalized;Other Outcomes'\n",
      " 'Life Threatening;Other Outcomes;Hospitalized;Died'\n",
      " 'Disabled;Other Outcomes;Died' 'Died;Life Threatening'\n",
      " 'Life Threatening;Other Outcomes;Hospitalized;Disabled;Died'\n",
      " 'Other Outcomes;Disabled;Died;Hospitalized'\n",
      " 'Life Threatening;Hospitalized;Other Outcomes;Disabled'\n",
      " 'Life Threatening;Disabled;Other Outcomes;Hospitalized'\n",
      " 'Hospitalized;Other Outcomes;Died;Disabled'\n",
      " 'Died;Other Outcomes;Congenital Anomaly'\n",
      " 'Required Intervention;Life Threatening;Hospitalized'\n",
      " 'Life Threatening;Hospitalized;Died;Other Outcomes'\n",
      " 'Other Outcomes;Disabled;Hospitalized;Life Threatening'\n",
      " 'Life Threatening;Hospitalized;Other Outcomes;Died;Disabled'\n",
      " 'Died;Hospitalized;Other Outcomes;Disabled'\n",
      " 'Required Intervention;Life Threatening;Hospitalized;Congenital Anomaly;Other Outcomes;Died;Disabled'\n",
      " 'Disabled;Hospitalized;Died;Other Outcomes'\n",
      " 'Hospitalized;Life Threatening;Other Outcomes;Died;Congenital Anomaly'\n",
      " 'Required Intervention;Died;Other Outcomes;Hospitalized;Life Threatening'\n",
      " 'Required Intervention;Congenital Anomaly'\n",
      " 'Hospitalized;Life Threatening;Other Outcomes;Disabled'\n",
      " 'Died;Hospitalized;Other Outcomes;Life Threatening'\n",
      " 'Life Threatening;Other Outcomes;Disabled'\n",
      " 'Other Outcomes;Life Threatening;Died;Hospitalized'\n",
      " 'Hospitalized;Other Outcomes;Disabled;Required Intervention'\n",
      " 'Other Outcomes;Disabled;Life Threatening' 'Congenital Anomaly;Died'\n",
      " 'Required Intervention;Other Outcomes;Hospitalized'\n",
      " 'Life Threatening;Other Outcomes;Required Intervention'\n",
      " 'Required Intervention;Life Threatening;Disabled;Hospitalized;Other Outcomes'\n",
      " 'Life Threatening;Other Outcomes;Required Intervention;Hospitalized;Disabled'\n",
      " 'Life Threatening;Hospitalized;Other Outcomes;Required Intervention'\n",
      " 'Life Threatening;Other Outcomes;Required Intervention;Hospitalized'\n",
      " 'Other Outcomes;Required Intervention;Life Threatening;Disabled'\n",
      " 'Required Intervention;Hospitalized;Disabled'\n",
      " 'Other Outcomes;Life Threatening;Hospitalized;Died'\n",
      " 'Hospitalized;Other Outcomes;Life Threatening;Required Intervention;Disabled'\n",
      " 'Life Threatening;Other Outcomes;Hospitalized;Disabled'\n",
      " 'Life Threatening;Disabled;Required Intervention;Hospitalized'\n",
      " 'Other Outcomes;Life Threatening;Hospitalized;Disabled'\n",
      " 'Required Intervention;Life Threatening;Hospitalized;Other Outcomes;Disabled'\n",
      " 'Disabled;Other Outcomes;Life Threatening;Died;Hospitalized'\n",
      " 'Other Outcomes;Died;Life Threatening;Hospitalized'\n",
      " 'Hospitalized;Disabled;Other Outcomes;Required Intervention'\n",
      " 'Hospitalized;Disabled;Other Outcomes;Life Threatening'\n",
      " 'Disabled;Died;Hospitalized;Life Threatening;Other Outcomes;Congenital Anomaly'\n",
      " 'Life Threatening;Other Outcomes;Hospitalized;Congenital Anomaly;Disabled'\n",
      " 'Other Outcomes;Required Intervention;Hospitalized;Life Threatening'\n",
      " 'Congenital Anomaly;Hospitalized;Other Outcomes'\n",
      " 'Disabled;Required Intervention;Other Outcomes'\n",
      " 'Hospitalized;Life Threatening;Disabled;Other Outcomes;Required Intervention'\n",
      " 'Life Threatening;Required Intervention;Other Outcomes;Hospitalized'\n",
      " 'Other Outcomes;Hospitalized;Required Intervention'\n",
      " 'Hospitalized;Other Outcomes;Required Intervention'\n",
      " 'Life Threatening;Hospitalized;Required Intervention'\n",
      " 'Disabled;Required Intervention;Hospitalized'\n",
      " 'Life Threatening;Required Intervention;Other Outcomes'\n",
      " 'Other Outcomes;Life Threatening;Died' 'Hospitalized;Disabled;Died'\n",
      " 'Other Outcomes;Disabled;Congenital Anomaly;Hospitalized'\n",
      " 'Hospitalized;Life Threatening;Disabled;Other Outcomes'\n",
      " 'Hospitalized;Life Threatening;Died;Disabled'\n",
      " 'Other Outcomes;Required Intervention;Hospitalized'\n",
      " 'Congenital Anomaly;Hospitalized;Life Threatening;Other Outcomes'\n",
      " 'Disabled;Life Threatening;Hospitalized;Died'\n",
      " 'Hospitalized;Required Intervention;Disabled'\n",
      " 'Other Outcomes;Died;Hospitalized;Disabled;Life Threatening'\n",
      " 'Other Outcomes;Died;Life Threatening;Hospitalized;Disabled'\n",
      " 'Hospitalized;Died;Disabled'\n",
      " 'Other Outcomes;Life Threatening;Required Intervention'\n",
      " 'Other Outcomes;Died;Hospitalized;Disabled'\n",
      " 'Other Outcomes;Died;Hospitalized;Life Threatening;Disabled'\n",
      " 'Died;Congenital Anomaly'\n",
      " 'Disabled;Life Threatening;Required Intervention;Hospitalized'\n",
      " 'Required Intervention;Other Outcomes;Hospitalized;Life Threatening;Disabled'\n",
      " 'Life Threatening;Disabled;Died'\n",
      " 'Required Intervention;Life Threatening;Hospitalized;Other Outcomes'\n",
      " 'Hospitalized;Required Intervention;Other Outcomes'\n",
      " 'Disabled;Other Outcomes;Required Intervention'\n",
      " 'Hospitalized;Disabled;Required Intervention;Life Threatening'\n",
      " 'Life Threatening;Hospitalized;Disabled;Other Outcomes'\n",
      " 'Required Intervention;Disabled;Other Outcomes'\n",
      " 'Disabled;Required Intervention;Life Threatening;Hospitalized'\n",
      " 'Required Intervention;Disabled;Life Threatening'\n",
      " 'Required Intervention;Life Threatening;Other Outcomes;Disabled'\n",
      " 'Required Intervention;Other Outcomes;Disabled'\n",
      " 'Other Outcomes;Required Intervention;Life Threatening'\n",
      " 'Hospitalized;Life Threatening;Disabled;Required Intervention;Other Outcomes'\n",
      " 'Required Intervention;Died'\n",
      " 'Other Outcomes;Required Intervention;Disabled'\n",
      " 'Hospitalized;Disabled;Required Intervention;Other Outcomes'\n",
      " 'Required Intervention;Life Threatening'\n",
      " 'Hospitalized;Other Outcomes;Required Intervention;Life Threatening'\n",
      " 'Disabled;Required Intervention;Life Threatening'\n",
      " 'Life Threatening;Died;Required Intervention;Hospitalized'\n",
      " 'Life Threatening;Required Intervention;Hospitalized;Disabled'\n",
      " 'Hospitalized;Disabled;Required Intervention'\n",
      " 'Other Outcomes;Life Threatening;Hospitalized;Required Intervention'\n",
      " 'Other Outcomes;Hospitalized;Disabled;Required Intervention'\n",
      " 'Hospitalized;Required Intervention;Life Threatening;Other Outcomes'\n",
      " 'Other Outcomes;Disabled;Hospitalized;Required Intervention'\n",
      " 'Died;Required Intervention;Hospitalized'\n",
      " 'Hospitalized;Life Threatening;Required Intervention;Other Outcomes'\n",
      " 'Required Intervention;Other Outcomes;Disabled;Hospitalized;Life Threatening'\n",
      " 'Required Intervention;Died;Life Threatening'\n",
      " 'Disabled;Life Threatening;Required Intervention;Hospitalized;Other Outcomes'\n",
      " 'Disabled;Other Outcomes;Required Intervention;Life Threatening'\n",
      " 'Life Threatening;Hospitalized;Other Outcomes;Disabled;Required Intervention'\n",
      " 'Hospitalized;Died;Other Outcomes;Life Threatening;Disabled;Congenital Anomaly'\n",
      " 'Disabled;Life Threatening;Died;Other Outcomes;Hospitalized'\n",
      " 'Hospitalized;Required Intervention;Died'\n",
      " 'Required Intervention;Disabled;Hospitalized;Life Threatening'\n",
      " 'Required Intervention;Hospitalized;Disabled;Life Threatening'\n",
      " 'Life Threatening;Disabled;Required Intervention'\n",
      " 'Life Threatening;Disabled;Other Outcomes;Required Intervention;Hospitalized'\n",
      " 'Life Threatening;Required Intervention;Hospitalized;Other Outcomes'\n",
      " 'Other Outcomes;Required Intervention;Disabled;Life Threatening'\n",
      " 'Required Intervention;Life Threatening;Hospitalized;Disabled'\n",
      " 'Life Threatening;Disabled;Required Intervention;Other Outcomes'\n",
      " 'Disabled;Life Threatening;Hospitalized;Required Intervention'\n",
      " 'Hospitalized;Disabled;Life Threatening;Required Intervention;Other Outcomes'\n",
      " 'Congenital Anomaly;Disabled;Other Outcomes'\n",
      " 'Hospitalized;Required Intervention;Life Threatening;Disabled'\n",
      " 'Other Outcomes;Life Threatening;Disabled;Required Intervention'\n",
      " 'Died;Hospitalized;Life Threatening;Required Intervention'\n",
      " 'Disabled;Other Outcomes;Required Intervention;Hospitalized'\n",
      " 'Required Intervention;Hospitalized;Other Outcomes;Life Threatening'\n",
      " 'Hospitalized;Other Outcomes;Life Threatening;Disabled;Required Intervention'\n",
      " 'Other Outcomes;Disabled;Died;Life Threatening;Hospitalized'\n",
      " 'Required Intervention;Disabled;Other Outcomes;Life Threatening'\n",
      " 'Hospitalized;Other Outcomes;Required Intervention;Disabled'\n",
      " 'Other Outcomes;Hospitalized;Required Intervention;Disabled'\n",
      " 'Disabled;Other Outcomes;Hospitalized;Required Intervention'\n",
      " 'Life Threatening;Disabled;Hospitalized;Required Intervention'\n",
      " 'Disabled;Hospitalized;Other Outcomes;Life Threatening;Required Intervention'\n",
      " 'Life Threatening;Other Outcomes;Hospitalized;Disabled;Required Intervention'\n",
      " 'Other Outcomes;Disabled;Hospitalized;Life Threatening;Required Intervention'\n",
      " 'Disabled;Hospitalized;Other Outcomes;Required Intervention;Life Threatening'\n",
      " 'Hospitalized;Disabled;Life Threatening;Required Intervention'\n",
      " 'Other Outcomes;Hospitalized;Required Intervention;Life Threatening'\n",
      " 'Life Threatening;Other Outcomes;Required Intervention;Disabled'\n",
      " 'Other Outcomes;Required Intervention;Hospitalized;Disabled'\n",
      " 'Hospitalized;Required Intervention;Disabled;Life Threatening'\n",
      " 'Life Threatening;Other Outcomes;Disabled;Required Intervention;Hospitalized'\n",
      " 'Required Intervention;Other Outcomes;Life Threatening'\n",
      " 'Required Intervention;Other Outcomes;Life Threatening;Hospitalized'\n",
      " 'Life Threatening;Hospitalized;Required Intervention;Other Outcomes;Disabled'\n",
      " 'Disabled;Hospitalized;Congenital Anomaly;Life Threatening'\n",
      " 'Disabled;Required Intervention;Other Outcomes;Life Threatening'\n",
      " 'Hospitalized;Life Threatening;Other Outcomes;Disabled;Died'\n",
      " 'Died;Required Intervention;Hospitalized;Disabled;Life Threatening'\n",
      " 'Hospitalized;Other Outcomes;Disabled;Died'\n",
      " 'Disabled;Hospitalized;Required Intervention'\n",
      " 'Hospitalized;Died;Other Outcomes;Required Intervention'\n",
      " 'Life Threatening;Other Outcomes;Hospitalized;Required Intervention'\n",
      " 'Required Intervention;Life Threatening;Disabled;Other Outcomes'\n",
      " 'Congenital Anomaly;Other Outcomes;Life Threatening;Disabled;Hospitalized'\n",
      " 'Other Outcomes;Disabled;Life Threatening;Hospitalized;Required Intervention'\n",
      " 'Life Threatening;Hospitalized;Required Intervention;Disabled'\n",
      " 'Other Outcomes;Required Intervention;Disabled;Hospitalized;Life Threatening'\n",
      " 'Hospitalized;Required Intervention;Other Outcomes;Life Threatening'\n",
      " 'Required Intervention;Hospitalized;Life Threatening;Disabled'\n",
      " 'Life Threatening;Disabled;Hospitalized;Other Outcomes;Required Intervention'] \n",
      " 🐈🐈🐈🐈🐈🐈🐈🐈🐈🐈🐈🐈🐈🐈🐈🐈🐈🐈🐈🐈\n",
      "unique values of api1 = [1 2 3 4 5] \n",
      " 🐈🐈🐈🐈🐈🐈🐈🐈🐈🐈🐈🐈🐈🐈🐈🐈🐈🐈🐈🐈\n",
      "unique values of Compounded Flag = ['-' 'Yes'] \n",
      " 🐈🐈🐈🐈🐈🐈🐈🐈🐈🐈🐈🐈🐈🐈🐈🐈🐈🐈🐈🐈\n"
     ]
    }
   ],
   "source": [
    "varsel = list(['Serious','Outcomes','Sex','api1','Patient Age','Compounded Flag'])\n",
    "glp1dfa = glp1df[varsel]\n",
    "\n",
    "def meow2(df,clmn):\n",
    "    for i in clmn:\n",
    "        col1 = df[i].unique()\n",
    "        print('unique values of',i,'=',col1,'\\n',\"\\U0001F408\"*20)\n",
    "\n",
    "varsel2 = list(['Sex','Serious','Outcomes','api1','Compounded Flag'])\n",
    "meow2(df=glp1dfa,clmn=varsel2)\n"
   ]
  },
  {
   "cell_type": "code",
   "execution_count": 21,
   "id": "cef944df-c066-4ce5-8739-5ae605fccbd0",
   "metadata": {
    "execution": {
     "iopub.execute_input": "2025-05-20T03:59:13.096654Z",
     "iopub.status.busy": "2025-05-20T03:59:13.096382Z",
     "iopub.status.idle": "2025-05-20T03:59:13.535264Z",
     "shell.execute_reply": "2025-05-20T03:59:13.534405Z",
     "shell.execute_reply.started": "2025-05-20T03:59:13.096633Z"
    }
   },
   "outputs": [
    {
     "name": "stderr",
     "output_type": "stream",
     "text": [
      "/tmp/ipykernel_17688/1958287203.py:1: SettingWithCopyWarning: \n",
      "A value is trying to be set on a copy of a slice from a DataFrame.\n",
      "Try using .loc[row_indexer,col_indexer] = value instead\n",
      "\n",
      "See the caveats in the documentation: https://pandas.pydata.org/pandas-docs/stable/user_guide/indexing.html#returning-a-view-versus-a-copy\n",
      "  glp1dfa['sex2'] = glp1dfa['Sex'].map({'Female':0,'Male':1,'Not Specified':3})\n",
      "/tmp/ipykernel_17688/1958287203.py:2: SettingWithCopyWarning: \n",
      "A value is trying to be set on a copy of a slice from a DataFrame.\n",
      "Try using .loc[row_indexer,col_indexer] = value instead\n",
      "\n",
      "See the caveats in the documentation: https://pandas.pydata.org/pandas-docs/stable/user_guide/indexing.html#returning-a-view-versus-a-copy\n",
      "  glp1dfa['serious2'] = glp1dfa['Serious'].map({'Non-Serious':0,'Serious':1})\n",
      "/tmp/ipykernel_17688/1958287203.py:3: SettingWithCopyWarning: \n",
      "A value is trying to be set on a copy of a slice from a DataFrame.\n",
      "Try using .loc[row_indexer,col_indexer] = value instead\n",
      "\n",
      "See the caveats in the documentation: https://pandas.pydata.org/pandas-docs/stable/user_guide/indexing.html#returning-a-view-versus-a-copy\n",
      "  glp1dfa['died'] = glp1dfa['Outcomes'].str.startswith('Died').astype(int)\n",
      "/tmp/ipykernel_17688/1958287203.py:4: SettingWithCopyWarning: \n",
      "A value is trying to be set on a copy of a slice from a DataFrame.\n",
      "Try using .loc[row_indexer,col_indexer] = value instead\n",
      "\n",
      "See the caveats in the documentation: https://pandas.pydata.org/pandas-docs/stable/user_guide/indexing.html#returning-a-view-versus-a-copy\n",
      "  glp1dfa['cpdf'] = glp1dfa['Compounded Flag'].str.startswith('Yes').astype(int)\n",
      "/tmp/ipykernel_17688/1958287203.py:5: SettingWithCopyWarning: \n",
      "A value is trying to be set on a copy of a slice from a DataFrame.\n",
      "Try using .loc[row_indexer,col_indexer] = value instead\n",
      "\n",
      "See the caveats in the documentation: https://pandas.pydata.org/pandas-docs/stable/user_guide/indexing.html#returning-a-view-versus-a-copy\n",
      "  glp1dfa['age1'] = glp1dfa['Patient Age'].str[:2]\n",
      "/tmp/ipykernel_17688/1958287203.py:6: SettingWithCopyWarning: \n",
      "A value is trying to be set on a copy of a slice from a DataFrame.\n",
      "Try using .loc[row_indexer,col_indexer] = value instead\n",
      "\n",
      "See the caveats in the documentation: https://pandas.pydata.org/pandas-docs/stable/user_guide/indexing.html#returning-a-view-versus-a-copy\n",
      "  glp1dfa['age2'] = pd.to_numeric(glp1dfa['age1'], errors='coerce').fillna(-1).astype('int')\n",
      "/tmp/ipykernel_17688/1958287203.py:7: SettingWithCopyWarning: \n",
      "A value is trying to be set on a copy of a slice from a DataFrame.\n",
      "Try using .loc[row_indexer,col_indexer] = value instead\n",
      "\n",
      "See the caveats in the documentation: https://pandas.pydata.org/pandas-docs/stable/user_guide/indexing.html#returning-a-view-versus-a-copy\n",
      "  glp1dfa['age3'] = glp1dfa['age2'].astype(int)\n"
     ]
    }
   ],
   "source": [
    "glp1dfa['sex2'] = glp1dfa['Sex'].map({'Female':0,'Male':1,'Not Specified':3})\n",
    "glp1dfa['serious2'] = glp1dfa['Serious'].map({'Non-Serious':0,'Serious':1})\n",
    "glp1dfa['died'] = glp1dfa['Outcomes'].str.startswith('Died').astype(int)\n",
    "glp1dfa['cpdf'] = glp1dfa['Compounded Flag'].str.startswith('Yes').astype(int)\n",
    "glp1dfa['age1'] = glp1dfa['Patient Age'].str[:2]\n",
    "glp1dfa['age2'] = pd.to_numeric(glp1dfa['age1'], errors='coerce').fillna(-1).astype('int')\n",
    "glp1dfa['age3'] = glp1dfa['age2'].astype(int)"
   ]
  },
  {
   "cell_type": "code",
   "execution_count": 24,
   "id": "52d409ea",
   "metadata": {},
   "outputs": [
    {
     "name": "stdout",
     "output_type": "stream",
     "text": [
      "age3 is integer: True\n"
     ]
    }
   ],
   "source": [
    "#verify age3 is integer\n",
    "print(f\"age3 is integer: {is_integer_dtype(glp1dfa['age3'])}\")"
   ]
  },
  {
   "cell_type": "code",
   "execution_count": 25,
   "id": "b048ca05-2028-431b-8aa8-7502a2839410",
   "metadata": {
    "execution": {
     "iopub.execute_input": "2025-05-20T03:59:21.288706Z",
     "iopub.status.busy": "2025-05-20T03:59:21.288264Z",
     "iopub.status.idle": "2025-05-20T03:59:21.304010Z",
     "shell.execute_reply": "2025-05-20T03:59:21.303324Z",
     "shell.execute_reply.started": "2025-05-20T03:59:21.288670Z"
    },
    "panel-layout": {
     "height": 428,
     "visible": true,
     "width": 100
    }
   },
   "outputs": [
    {
     "data": {
      "text/html": [
       "<div>\n",
       "<style scoped>\n",
       "    .dataframe tbody tr th:only-of-type {\n",
       "        vertical-align: middle;\n",
       "    }\n",
       "\n",
       "    .dataframe tbody tr th {\n",
       "        vertical-align: top;\n",
       "    }\n",
       "\n",
       "    .dataframe thead th {\n",
       "        text-align: right;\n",
       "    }\n",
       "</style>\n",
       "<table border=\"1\" class=\"dataframe\">\n",
       "  <thead>\n",
       "    <tr style=\"text-align: right;\">\n",
       "      <th></th>\n",
       "      <th>Serious</th>\n",
       "      <th>Outcomes</th>\n",
       "      <th>Sex</th>\n",
       "      <th>api1</th>\n",
       "      <th>Patient Age</th>\n",
       "      <th>Compounded Flag</th>\n",
       "      <th>sex2</th>\n",
       "      <th>serious2</th>\n",
       "      <th>died</th>\n",
       "      <th>cpdf</th>\n",
       "      <th>age1</th>\n",
       "      <th>age2</th>\n",
       "      <th>age3</th>\n",
       "    </tr>\n",
       "  </thead>\n",
       "  <tbody>\n",
       "    <tr>\n",
       "      <th>0</th>\n",
       "      <td>Non-Serious</td>\n",
       "      <td>Non-Serious</td>\n",
       "      <td>Male</td>\n",
       "      <td>1</td>\n",
       "      <td>80 YR</td>\n",
       "      <td>-</td>\n",
       "      <td>1</td>\n",
       "      <td>0</td>\n",
       "      <td>0</td>\n",
       "      <td>0</td>\n",
       "      <td>80</td>\n",
       "      <td>80</td>\n",
       "      <td>80</td>\n",
       "    </tr>\n",
       "    <tr>\n",
       "      <th>1</th>\n",
       "      <td>Non-Serious</td>\n",
       "      <td>Non-Serious</td>\n",
       "      <td>Female</td>\n",
       "      <td>1</td>\n",
       "      <td>80 YR</td>\n",
       "      <td>-</td>\n",
       "      <td>0</td>\n",
       "      <td>0</td>\n",
       "      <td>0</td>\n",
       "      <td>0</td>\n",
       "      <td>80</td>\n",
       "      <td>80</td>\n",
       "      <td>80</td>\n",
       "    </tr>\n",
       "    <tr>\n",
       "      <th>2</th>\n",
       "      <td>Non-Serious</td>\n",
       "      <td>Non-Serious</td>\n",
       "      <td>Male</td>\n",
       "      <td>1</td>\n",
       "      <td>85 YR</td>\n",
       "      <td>-</td>\n",
       "      <td>1</td>\n",
       "      <td>0</td>\n",
       "      <td>0</td>\n",
       "      <td>0</td>\n",
       "      <td>85</td>\n",
       "      <td>85</td>\n",
       "      <td>85</td>\n",
       "    </tr>\n",
       "    <tr>\n",
       "      <th>3</th>\n",
       "      <td>Serious</td>\n",
       "      <td>Hospitalized</td>\n",
       "      <td>Female</td>\n",
       "      <td>1</td>\n",
       "      <td>71 YR</td>\n",
       "      <td>-</td>\n",
       "      <td>0</td>\n",
       "      <td>1</td>\n",
       "      <td>0</td>\n",
       "      <td>0</td>\n",
       "      <td>71</td>\n",
       "      <td>71</td>\n",
       "      <td>71</td>\n",
       "    </tr>\n",
       "    <tr>\n",
       "      <th>4</th>\n",
       "      <td>Non-Serious</td>\n",
       "      <td>Non-Serious</td>\n",
       "      <td>Female</td>\n",
       "      <td>1</td>\n",
       "      <td>63 YR</td>\n",
       "      <td>-</td>\n",
       "      <td>0</td>\n",
       "      <td>0</td>\n",
       "      <td>0</td>\n",
       "      <td>0</td>\n",
       "      <td>63</td>\n",
       "      <td>63</td>\n",
       "      <td>63</td>\n",
       "    </tr>\n",
       "  </tbody>\n",
       "</table>\n",
       "</div>"
      ],
      "text/plain": [
       "       Serious      Outcomes     Sex  api1 Patient Age Compounded Flag  sex2  \\\n",
       "0  Non-Serious   Non-Serious    Male     1       80 YR               -     1   \n",
       "1  Non-Serious   Non-Serious  Female     1       80 YR               -     0   \n",
       "2  Non-Serious   Non-Serious    Male     1       85 YR               -     1   \n",
       "3      Serious  Hospitalized  Female     1       71 YR               -     0   \n",
       "4  Non-Serious   Non-Serious  Female     1       63 YR               -     0   \n",
       "\n",
       "   serious2  died  cpdf age1  age2  age3  \n",
       "0         0     0     0   80    80    80  \n",
       "1         0     0     0   80    80    80  \n",
       "2         0     0     0   85    85    85  \n",
       "3         1     0     0   71    71    71  \n",
       "4         0     0     0   63    63    63  "
      ]
     },
     "execution_count": 25,
     "metadata": {},
     "output_type": "execute_result"
    }
   ],
   "source": [
    "glp1dfa.head()"
   ]
  },
  {
   "cell_type": "code",
   "execution_count": 26,
   "id": "aafb07d6-21a0-4cab-a030-b4e4a99aa8e6",
   "metadata": {
    "execution": {
     "iopub.execute_input": "2025-05-20T03:59:32.120850Z",
     "iopub.status.busy": "2025-05-20T03:59:32.120589Z",
     "iopub.status.idle": "2025-05-20T03:59:32.190856Z",
     "shell.execute_reply": "2025-05-20T03:59:32.190199Z",
     "shell.execute_reply.started": "2025-05-20T03:59:32.120831Z"
    }
   },
   "outputs": [
    {
     "name": "stdout",
     "output_type": "stream",
     "text": [
      "<class 'pandas.core.frame.DataFrame'>\n",
      "RangeIndex: 300554 entries, 0 to 300553\n",
      "Data columns (total 13 columns):\n",
      " #   Column           Non-Null Count   Dtype \n",
      "---  ------           --------------   ----- \n",
      " 0   Serious          300554 non-null  object\n",
      " 1   Outcomes         300554 non-null  object\n",
      " 2   Sex              300554 non-null  object\n",
      " 3   api1             300554 non-null  int64 \n",
      " 4   Patient Age      300554 non-null  object\n",
      " 5   Compounded Flag  300554 non-null  object\n",
      " 6   sex2             300554 non-null  int64 \n",
      " 7   serious2         300554 non-null  int64 \n",
      " 8   died             300554 non-null  int64 \n",
      " 9   cpdf             300554 non-null  int64 \n",
      " 10  age1             300554 non-null  object\n",
      " 11  age2             300554 non-null  int64 \n",
      " 12  age3             300554 non-null  int64 \n",
      "dtypes: int64(7), object(6)\n",
      "memory usage: 29.8+ MB\n"
     ]
    }
   ],
   "source": [
    "glp1dfa.info()"
   ]
  },
  {
   "cell_type": "code",
   "execution_count": 27,
   "id": "5742cbdc-f103-4526-a2c1-5586ddf8ef27",
   "metadata": {
    "execution": {
     "iopub.execute_input": "2025-05-20T03:59:45.597037Z",
     "iopub.status.busy": "2025-05-20T03:59:45.596762Z",
     "iopub.status.idle": "2025-05-20T03:59:46.420675Z",
     "shell.execute_reply": "2025-05-20T03:59:46.420081Z",
     "shell.execute_reply.started": "2025-05-20T03:59:45.597017Z"
    }
   },
   "outputs": [],
   "source": [
    "#write to csv, used for plotting\n",
    "glp1dfa.to_csv('glp1dfa.csv', index=False)"
   ]
  },
  {
   "cell_type": "code",
   "execution_count": null,
   "id": "ab4290ff-4f3b-4a21-89ad-117b31087c10",
   "metadata": {
    "execution": {
     "iopub.execute_input": "2025-05-20T01:27:55.019705Z",
     "iopub.status.busy": "2025-05-20T01:27:55.019242Z",
     "iopub.status.idle": "2025-05-20T01:27:55.078609Z",
     "shell.execute_reply": "2025-05-20T01:27:55.078018Z",
     "shell.execute_reply.started": "2025-05-20T01:27:55.019683Z"
    },
    "panel-layout": {
     "height": 0,
     "visible": true,
     "width": 100
    }
   },
   "outputs": [],
   "source": [
    "frqt = glp1dfa['Serious'].value_counts()\n",
    "print(frqt,'\\n*******')\n",
    "\n",
    "#Using groupby to count frequencies across all combinations; this is data pipeline\n",
    "frqt2 = glp1dfa.groupby(['Serious', 'Sex']).size().reset_index(name='Count')\n",
    "print(frqt2)\n",
    "print(frqt2.columns)\n",
    "\n",
    "\n",
    "#Multi-level cross-tabulation\n",
    "#print(\"\\nMulti-level cross-tabulation (Susp Pro API, Serious, Sex, Compounded Flag)\")\n",
    "#frqt_mt = pd.crosstab([glp1df2['Sex'],glp1df2['Compounded Flag'],glp1df2['Suspect Product Active Ingredients']], glp1df2['Serious'])\n",
    "#print(frqt_mt)\n",
    "\n",
    "\n",
    "#frqt2_multi_index = frqt2.query(\"yr<=80\").groupby(['yr', 'origin']).mean(numeric_only=True)\n",
    "#autompg_multi_index.head()\n",
    "\n",
    "#frqt3 = frqt2.reset_index()\n",
    "#print(frqt3)\n",
    "#print(frqt3.columns)\n",
    "#frqt3.head()\n",
    "#frqt3m = frqt3.melt(id_vars=['Serious'],value_vars=['Female','Male','Not Specified'],var_name='Sex',value_name='Counts')\n",
    "#print(frqt3m)"
   ]
  },
  {
   "cell_type": "code",
   "execution_count": null,
   "id": "1f9fa329-a32c-44f4-9352-576fd344837f",
   "metadata": {
    "execution": {
     "iopub.execute_input": "2025-05-20T02:06:07.620915Z",
     "iopub.status.busy": "2025-05-20T02:06:07.620319Z",
     "iopub.status.idle": "2025-05-20T02:06:08.337006Z",
     "shell.execute_reply": "2025-05-20T02:06:08.336436Z",
     "shell.execute_reply.started": "2025-05-20T02:06:07.620883Z"
    }
   },
   "outputs": [],
   "source": [
    "#Plot1\n",
    "#Data for plot1\n",
    "plot1df = glp1dfa[['Serious','Sex','api1']]\n",
    "\n",
    "#make data pipeline interactive (make frqt2 interactive)\n",
    "idf = plot1df.interactive()\n",
    "\n",
    "#Define Panel Widgets\n",
    "api_w = pn.widgets.ToggleGroup(name='1=dulaglutide, 2=exenatide, 3=liraglutide, 4=semaglutide, 5=tirzapetide',options=[1,2,3,4,5],\n",
    "                               value=[1,2,3,4,5],button_type='success')\n",
    "\n",
    "#combine pipeline and widgets\n",
    "ipipeline = (\n",
    "    idf[\n",
    "    (idf.api1.isin(api_w))\n",
    "    ]\n",
    "    .groupby(['Serious','Sex']).size().reset_index(name='Count')\n",
    ")\n",
    "\n",
    "ibarplot1 = ipipeline.hvplot.bar(x='Serious',y='Count',by='Sex',stacked=True,color=['hotpink','lightskyblue','mediumpurple'],\n",
    "                                 xlabel='Seriousness',ylabel='Number of Events',title='GLP-1 Adverse Events',\n",
    "                                yformatter=NumeralTickFormatter(format=\"0,0\"))\n",
    "ibarplot1"
   ]
  },
  {
   "cell_type": "code",
   "execution_count": null,
   "id": "a43c2d66-dba8-469a-8126-243b1bc24fbe",
   "metadata": {
    "execution": {
     "iopub.execute_input": "2025-05-20T02:06:52.541803Z",
     "iopub.status.busy": "2025-05-20T02:06:52.541504Z",
     "iopub.status.idle": "2025-05-20T02:06:52.729814Z",
     "shell.execute_reply": "2025-05-20T02:06:52.729179Z",
     "shell.execute_reply.started": "2025-05-20T02:06:52.541781Z"
    }
   },
   "outputs": [],
   "source": [
    "pn.extension('tabulator')\n",
    "itable = ipipeline.pipe(pn.widgets.Tabulator, pagination='remote', page_size=10)\n",
    "itable"
   ]
  },
  {
   "cell_type": "code",
   "execution_count": null,
   "id": "430dd95e-a6c6-4c39-9c56-4ae82d1f778b",
   "metadata": {
    "execution": {
     "iopub.execute_input": "2025-05-20T02:19:57.640048Z",
     "iopub.status.busy": "2025-05-20T02:19:57.639747Z",
     "iopub.status.idle": "2025-05-20T02:19:57.655807Z",
     "shell.execute_reply": "2025-05-20T02:19:57.655030Z",
     "shell.execute_reply.started": "2025-05-20T02:19:57.640022Z"
    }
   },
   "outputs": [],
   "source": [
    "#Plot2\n",
    "#Data for plot2\n",
    "plot2df = glp1dfa[['died','Sex','api1','cpdf','age2']]\n",
    "plot2dfb = plot2df[plot2df['died'] == 1]\n",
    "plot2dfb.head()"
   ]
  },
  {
   "cell_type": "code",
   "execution_count": null,
   "id": "84d22221-594e-4c19-acf0-a1046d4d5b5b",
   "metadata": {
    "execution": {
     "iopub.execute_input": "2025-05-20T02:20:03.921736Z",
     "iopub.status.busy": "2025-05-20T02:20:03.921377Z",
     "iopub.status.idle": "2025-05-20T02:20:03.933740Z",
     "shell.execute_reply": "2025-05-20T02:20:03.932696Z",
     "shell.execute_reply.started": "2025-05-20T02:20:03.921678Z"
    }
   },
   "outputs": [],
   "source": [
    "plot2dfb.info()"
   ]
  },
  {
   "cell_type": "code",
   "execution_count": null,
   "id": "6b3bc2ef-b654-4cf9-a2a0-4c7478c3336b",
   "metadata": {
    "execution": {
     "iopub.execute_input": "2025-05-20T02:31:42.834320Z",
     "iopub.status.busy": "2025-05-20T02:31:42.833616Z",
     "iopub.status.idle": "2025-05-20T02:31:42.842514Z",
     "shell.execute_reply": "2025-05-20T02:31:42.841547Z",
     "shell.execute_reply.started": "2025-05-20T02:31:42.834296Z"
    }
   },
   "outputs": [],
   "source": [
    "# Describe a numeric column\n",
    "print(plot2dfb['age2'].describe())"
   ]
  },
  {
   "cell_type": "code",
   "execution_count": null,
   "id": "8ab302ff-8a8d-4928-b15a-afdb4f24c28e",
   "metadata": {
    "execution": {
     "iopub.execute_input": "2025-05-20T02:46:37.434175Z",
     "iopub.status.busy": "2025-05-20T02:46:37.433804Z",
     "iopub.status.idle": "2025-05-20T02:46:38.037709Z",
     "shell.execute_reply": "2025-05-20T02:46:38.036915Z",
     "shell.execute_reply.started": "2025-05-20T02:46:37.434136Z"
    }
   },
   "outputs": [],
   "source": [
    "#make data pipeline interactive (make frqt2 interactive)\n",
    "idf2 = plot2dfb.interactive()\n",
    "\n",
    "#Define Panel Widgets\n",
    "cpd_w = pn.widgets.ToggleGroup(name='0=no, 1=yes',options=[0,1],\n",
    "                               value=[0,1],button_type='success')\n",
    "\n",
    "age_slider = pn.widgets.IntRangeSlider(name='Age Range',start=0,end=100,value=(50,90),step=1)\n",
    "\n",
    "#combine pipeline and widgets\n",
    "ipipeline2 = (\n",
    "    idf2[\n",
    "    idf2.cpdf.isin(cpd_w) &\n",
    "    idf2.age2.between(*age_slider.value)\n",
    "    ]\n",
    "    .groupby(['api1','Sex']).size().reset_index(name='Count')\n",
    ")\n",
    "\n",
    "ibarplot2 = ipipeline2.hvplot.bar(x='api1',y='Count',by='Sex',stacked=True,color=['hotpink','lightskyblue','mediumpurple'],\n",
    "                                 xlabel='API',ylabel='Number of Events',title='GLP-1 Deaths',\n",
    "                                yformatter=NumeralTickFormatter(format=\"0,0\"))\n",
    "ibarplot2"
   ]
  },
  {
   "cell_type": "code",
   "execution_count": null,
   "id": "e3ad32ec-5d69-4851-9112-e881b9e281e3",
   "metadata": {
    "execution": {
     "iopub.execute_input": "2025-05-20T02:54:28.681661Z",
     "iopub.status.busy": "2025-05-20T02:54:28.681374Z",
     "iopub.status.idle": "2025-05-20T02:54:29.272089Z",
     "shell.execute_reply": "2025-05-20T02:54:29.271494Z",
     "shell.execute_reply.started": "2025-05-20T02:54:28.681640Z"
    }
   },
   "outputs": [],
   "source": [
    "#Layout using Template\n",
    "template = pn.template.FastListTemplate(\n",
    "    title='GLP-1 Adverse Events', \n",
    "    sidebar=[\"Drug: 1=dulaglutide, 2=semaglutide, 3=liraglutide...\",api_w,\n",
    "             'Compounded (0=no, 1=yes)',cpd_w,\n",
    "            'Age',age_slider], \n",
    "    main=[ibarplot1.panel(),ibarplot2,itable.panel()]\n",
    ")\n",
    "template.servable()"
   ]
  },
  {
   "cell_type": "code",
   "execution_count": null,
   "id": "7c16e2af-d028-479d-98c1-cd2d5537f3e1",
   "metadata": {},
   "outputs": [],
   "source": [
    "frqt2.head()"
   ]
  },
  {
   "cell_type": "code",
   "execution_count": null,
   "id": "434fcd34-556c-4674-86bb-ba861af91899",
   "metadata": {
    "panel-layout": {
     "height": 728.141,
     "visible": true,
     "width": 100
    }
   },
   "outputs": [],
   "source": [
    "#frqt.plot(kind='bar',title='Serious Reactions')\n",
    "frqt2.hvplot.bar(x='Serious',y='Count',by='Sex',stacked=True,title='GLP-1 Adverse Events',color=['hotpink','lightskyblue','mediumpurple'],\n",
    "                 xlabel='Seriousness',ylabel='Number of Events')"
   ]
  },
  {
   "cell_type": "code",
   "execution_count": null,
   "id": "b693c740-e4f3-45a0-a517-e32d97b87c4b",
   "metadata": {
    "panel-layout": {
     "height": 728.141,
     "visible": true,
     "width": 100
    }
   },
   "outputs": [],
   "source": [
    "frqt2.plot.bar(rot=0, stacked=True)\n"
   ]
  },
  {
   "cell_type": "code",
   "execution_count": null,
   "id": "a1be82a8-d5a9-4eb8-b79d-8a8cefa57523",
   "metadata": {
    "panel-layout": {
     "height": 701,
     "visible": true,
     "width": 100
    }
   },
   "outputs": [],
   "source": [
    "import hvplot.pandas\n",
    "print(frqt)"
   ]
  },
  {
   "cell_type": "code",
   "execution_count": null,
   "id": "e6ffaa2b-b252-4f47-9fd0-2a191957dedb",
   "metadata": {
    "panel-layout": {
     "height": 1011,
     "visible": true,
     "width": 100
    }
   },
   "outputs": [],
   "source": [
    "frqt.hvplot.bar(x=\"Serious\")"
   ]
  },
  {
   "cell_type": "code",
   "execution_count": null,
   "id": "a8aefd4f-4116-4d34-baa2-27bc358b66b4",
   "metadata": {
    "panel-layout": {
     "height": 701,
     "visible": true,
     "width": 100
    }
   },
   "outputs": [],
   "source": [
    "print('frqt2:\\n',frqt2)\n",
    "print(frqt2.columns)\n",
    "print('frqt3 data frame:')\n",
    "print(frqt3,'\\n --*5')\n",
    "print('frqt3m data frame:')\n",
    "print(frqt3m)\n",
    "\n",
    "#frqt3 select specific olumns\n",
    "frqt3temp=frqt3[['Female','Male']]\n",
    "print(frqt3temp)"
   ]
  },
  {
   "cell_type": "code",
   "execution_count": null,
   "id": "2ce8f826-22ae-499d-b5e8-8099467f85ae",
   "metadata": {
    "panel-layout": {
     "height": 1011,
     "visible": true,
     "width": 100
    }
   },
   "outputs": [],
   "source": [
    "import hvplot.pandas\n",
    "import holoviews as hv\n",
    "import numpy as np\n",
    "import pandas as pd\n",
    "import panel as pn\n",
    "\n",
    "pn.extension()\n",
    "\n",
    "# Checkbox widget for selecting columns\n",
    "checkbox = pn.widgets.CheckBoxGroup(name='Sex:', options=list(frqt3.columns[1:]), \n",
    "                                    value=['Male','Female','Not Specified'])\n",
    "\n",
    "# Function to plot selected columns\n",
    "def plot(columns):\n",
    "    if not columns:\n",
    "        return pn.pane.Markdown(\"**Please select at least one column.**\")\n",
    "    return frqt3[columns].hvplot.bar(title=\"semaglutide Adverse Events\",stacked=True,\n",
    "                                     color=['hotpink', 'lightskyblue', 'mediumpurple'],xlabel='Seriousness',\n",
    "                                     ylabel='Number of Events',legend='top_right'\n",
    "                                    )\n",
    "\n",
    "# Bind the function to the widget correctly\n",
    "bound_plot = pn.bind(plot, columns=checkbox)\n",
    "\n",
    "# Layout: checkboxes on top, plot below\n",
    "layout = pn.Column(\"## Select Columns to Plot\", checkbox, bound_plot)\n",
    "\n",
    "# Show in notebook or serve as app\n",
    "layout.servable()"
   ]
  },
  {
   "cell_type": "code",
   "execution_count": null,
   "id": "2d7b725f-a46d-4fab-af81-a56e71aa1e27",
   "metadata": {},
   "outputs": [],
   "source": [
    "frqt3.hvplot.bar(x=\"Serious\",title=\"Selected Columns\",stacked=True)\n",
    "#print(list(frqt3.columns)[1:])"
   ]
  },
  {
   "cell_type": "code",
   "execution_count": null,
   "id": "e12fe0a6-abfc-4d04-ba7d-4c37894bc764",
   "metadata": {},
   "outputs": [],
   "source": [
    "bar_plot=frqt3.hvplot.bar(x=\"Serious\",stacked=True,color=['hotpink', 'lightskyblue', 'mediumpurple'],xlabel='Category',\n",
    "                         ylabel='Number of Events',legend='top_right',title='Semaglutide Adverse Events')\n",
    "component = pn.panel(bar_plot, sizing_mode=\"stretch_width\", )\n",
    "print(component)\n",
    "component.servable()\n",
    "\n",
    "# Create a Panel app\n",
    "app = pn.Column(\n",
    "    pn.pane.Markdown(\"# Interactive Bar Graph\"),\n",
    "    pn.pane.Markdown(\"A simple bar graph created with hvPlot and served with Panel.\"),\n",
    "    bar_plot\n",
    ")\n",
    "\n",
    "# Serve the app\n",
    "app.servable()"
   ]
  },
  {
   "cell_type": "code",
   "execution_count": null,
   "id": "1a205d9a-d711-4e2e-ae8e-8c3c9f59f314",
   "metadata": {},
   "outputs": [],
   "source": [
    "#Test area\n",
    "import pandas as pd\n",
    "import numpy as np\n",
    "import hvplot.pandas\n",
    "import panel as pn\n",
    "import holoviews as hv\n",
    "from holoviews import opts\n",
    "\n",
    "# Enable extensions\n",
    "pn.extension('hvplot')\n",
    "hv.extension('bokeh')\n",
    "\n",
    "# Create sample data with multiple categories\n",
    "data = {\n",
    "    'category': ['A', 'B', 'C', 'D', 'E'] * 3,\n",
    "    'values': [23, 48, 15, 37, 29, 31, 42, 19, 33, 27, 25, 51, 12, 39, 22],\n",
    "    'group': ['Group1', 'Group1', 'Group1', 'Group1', 'Group1', \n",
    "              'Group2', 'Group2', 'Group2', 'Group2', 'Group2',\n",
    "              'Group3', 'Group3', 'Group3', 'Group3', 'Group3']\n",
    "}\n",
    "df = pd.DataFrame(data)\n",
    "\n",
    "# Create checkboxes for each group\n",
    "group1_checkbox = pn.widgets.Checkbox(name='Group1', value=True)\n",
    "group2_checkbox = pn.widgets.Checkbox(name='Group2', value=True)\n",
    "group3_checkbox = pn.widgets.Checkbox(name='Group3', value=True)\n",
    "\n",
    "# Create checkbox for showing values on bars\n",
    "show_values = pn.widgets.Checkbox(name='Show Values', value=False)\n",
    "\n",
    "# Create checkbox for sorting bars\n",
    "sort_bars = pn.widgets.Checkbox(name='Sort Bars', value=False)\n",
    "\n",
    "# Create a function that updates the plot based on checkbox selections\n",
    "@pn.depends(group1=group1_checkbox, group2=group2_checkbox, group3=group3_checkbox, \n",
    "            show_val=show_values, sort=sort_bars)\n",
    "def create_bar_plot(group1, group2, group3, show_val, sort):\n",
    "    # Filter data based on checkbox selections\n",
    "    groups_to_include = []\n",
    "    if group1:\n",
    "        groups_to_include.append('Group1')\n",
    "    if group2:\n",
    "        groups_to_include.append('Group2')\n",
    "    if group3:\n",
    "        groups_to_include.append('Group3')\n",
    "    \n",
    "    filtered_df = df[df['group'].isin(groups_to_include)]\n",
    "    \n",
    "    # If no groups selected, return empty plot with message\n",
    "    if len(filtered_df) == 0:\n",
    "        return hv.Text(0, 0, 'Please select at least one group').opts(\n",
    "            width=600, height=400, text_font_size='20pt')\n",
    "    \n",
    "    # Sort if requested\n",
    "    if sort:\n",
    "        # Group by category and sum values, then sort\n",
    "        plot_df = filtered_df.groupby('category')['values'].sum().reset_index()\n",
    "        plot_df = plot_df.sort_values('values', ascending=False)\n",
    "    else:\n",
    "        # Group by category and sum values\n",
    "        plot_df = filtered_df.groupby('category')['values'].sum().reset_index()\n",
    "    \n",
    "    # Create the bar plot\n",
    "    bar_plot = plot_df.hvplot.bar(\n",
    "        x='category', \n",
    "        y='values',\n",
    "        title='Interactive Bar Chart',\n",
    "        color='category',\n",
    "        cmap='Category10',\n",
    "        height=400,\n",
    "        width=600\n",
    "    )\n",
    "    \n",
    "    # Add value labels if requested\n",
    "    if show_val:\n",
    "        labels = hv.Labels(\n",
    "            {\n",
    "                'x': plot_df['category'],\n",
    "                'y': plot_df['values'],\n",
    "                'text': [str(int(val)) for val in plot_df['values']]\n",
    "            },\n",
    "            ['x', 'y'], 'text'\n",
    "        ).opts(\n",
    "            opts.Labels(text_font_size='10pt', text_color='black', \n",
    "                       text_align='center', text_baseline='bottom',\n",
    "                       y_offset=5)\n",
    "        )\n",
    "        bar_plot = bar_plot * labels\n",
    "    \n",
    "    return bar_plot\n",
    "\n",
    "# Create a panel with the checkboxes and plot\n",
    "checkbox_group = pn.Column(\n",
    "    pn.pane.Markdown(\"### Filter by Group\"),\n",
    "    group1_checkbox,\n",
    "    group2_checkbox,\n",
    "    group3_checkbox,\n",
    "    pn.Spacer(height=20),\n",
    "    pn.pane.Markdown(\"### Options\"),\n",
    "    show_values,\n",
    "    sort_bars\n",
    ")\n",
    "\n",
    "# Create the main layout\n",
    "main_layout = pn.Row(\n",
    "    checkbox_group,\n",
    "    create_bar_plot,\n",
    "    sizing_mode='stretch_width'\n",
    ")\n",
    "\n",
    "# Create the app with a title\n",
    "app = pn.Column(\n",
    "    pn.pane.Markdown(\"# Interactive Bar Chart with Checkboxes\"),\n",
    "    pn.pane.Markdown(\"Use the checkboxes to filter data and customize the visualization.\"),\n",
    "    main_layout,\n",
    "    sizing_mode='stretch_width'\n",
    ")\n",
    "\n",
    "# Make it servable\n",
    "app.servable()\n",
    "\n",
    "# Display in notebook\n",
    "app"
   ]
  },
  {
   "cell_type": "code",
   "execution_count": null,
   "id": "ff700579-54c0-4cf7-b0f2-3c6127019b9c",
   "metadata": {},
   "outputs": [],
   "source": [
    "import pandas as pd\n",
    "import hvplot.pandas\n",
    "import panel as pn\n",
    "\n",
    "pn.extension\n",
    "\n",
    "# Sample DataFrame\n",
    "df = pd.DataFrame({\n",
    "    'A': [3, 5, 2],\n",
    "    'B': [4, 1, 7],\n",
    "    'C': [6, 3, 5]\n",
    "}, index=['Item 1', 'Item 2', 'Item 3'])\n",
    "\n",
    "# Checkbox widget for selecting columns\n",
    "checkbox = pn.widgets.CheckBoxGroup(name='Select Columns', options=list(df.columns), value=['A'])\n",
    "\n",
    "# Function to plot selected columns\n",
    "def plot(columns):\n",
    "    if not columns:\n",
    "        return pn.pane.Markdown(\"**Please select at least one column.**\")\n",
    "    return df[columns].hvplot(kind='bar', title=\"Selected Columns\")\n",
    "\n",
    "# Bind the function to the widget correctly\n",
    "bound_plot = pn.bind(plot, columns=checkbox)\n",
    "\n",
    "# Layout: checkboxes on top, plot below\n",
    "layout = pn.Column(\"## Select Columns to Plot\", checkbox, bound_plot)\n",
    "\n",
    "# Show in notebook or serve as app\n",
    "layout.servable()\n"
   ]
  },
  {
   "cell_type": "markdown",
   "id": "d377749b-bacf-4a03-9e29-bf0d60b70782",
   "metadata": {
    "id": "5dWwtQ1_eZ29",
    "panel-layout": {
     "height": 534.094,
     "visible": true,
     "width": 100
    }
   },
   "source": [
    "# All Data from FDA Adverse Events Reporting System (FAERS)\n",
    "While the FAERS dashboard offers stakeholders many more ways of searching for and organizing data on adverse events reported to the FDA for many drug and biologic products, there remain limitations to the data. For example, while FAERS contains reports on a particular drug or biologic, this does not mean that the drug or biologic caused the adverse event. Importantly, the FAERS data by themselves are not an indicator of the safety profile of the drug or biologic. Some additional limitations to note include:\n",
    "\n",
    "Duplicate and incomplete reports are in the system: There are many instances of duplicative reports and some reports do not contain all the necessary information.\n",
    "Existence of a report does not establish causation: For any given report, there is no certainty that a suspected drug caused the event.  While consumers and healthcare professionals are encouraged to report adverse events, the event may have been related to the underlying disease being treated, or caused by some other drug being taken concurrently, or occurred for other reasons. The information in these reports reflects only the reporter's observations and opinions.\n",
    "Information in reports has not been verified: Submission of a report does not mean that the information included in it has been medically confirmed nor it is an admission from the reporter that the drug caused or contributed the event.\n",
    "Rates of occurrence cannot be established with reports: The information in these reports cannot be used to estimate the incidence (occurrence rates) of the events reported.\n",
    "Patients should talk to their doctor before stopping or changing how they take their medications.\n",
    "Improving data access and transparency are core concepts that drove the development of this FAERS Dashboard.  The FDA anticipates that this increased transparency will help to spur the submission of more detailed and complete reports from consumers, health care providers and other members of the public. Complete and detailed reports are immensely helpful to the agency when identifying safety signals and choosing particular products for further scrutiny."
   ]
  },
  {
   "cell_type": "code",
   "execution_count": null,
   "id": "24e04813-592b-41de-b4e3-3abb0c3ffd15",
   "metadata": {},
   "outputs": [],
   "source": [
    "#test area\n",
    "import pandas as pd\n",
    "import hvplot.pandas\n",
    "import holoviews as hv\n",
    "\n",
    "# Sample dataframe\n",
    "data = {'category': ['A', 'A', 'B', 'B', 'C', 'C'],\n",
    "        'value': [10, 15, 20, 25, 30, 35]}\n",
    "df = pd.DataFrame(data)\n",
    "\n",
    "# Group by category and create bar plots\n",
    "bar_plots = df.groupby('category')['value'].hvplot.bar()\n",
    "\n",
    "# Add interactive elements (e.g., checkboxes)\n",
    "bar_plots.opts(hv.Plot(), tools=['toggle'])\n",
    "\n",
    "# Display the interactive plot\n",
    "bar_plots"
   ]
  },
  {
   "cell_type": "code",
   "execution_count": null,
   "id": "1dddbd2e-d4aa-428a-a6bc-0a9c390cb23f",
   "metadata": {},
   "outputs": [],
   "source": [
    "import pandas as pd\n",
    "import numpy as np\n",
    "import matplotlib.pyplot as plt\n",
    "import seaborn as sns\n",
    "\n",
    "# Create sample data with 4 categorical variables\n",
    "np.random.seed(42)\n",
    "data = {\n",
    "    'Gender': np.random.choice(['Male', 'Female', 'Other'], 1000),\n",
    "    'Education': np.random.choice(['High School', 'Bachelor', 'Master', 'PhD'], 1000),\n",
    "    'Region': np.random.choice(['North', 'South', 'East', 'West', 'Central'], 1000),\n",
    "    'Age_Group': np.random.choice(['18-25', '26-35', '36-45', '46+'], 1000)\n",
    "}\n",
    "\n",
    "df = pd.DataFrame(data)\n",
    "\n",
    "print(\"Sample data:\")\n",
    "print(df.head())\n",
    "print(\"\\n\")\n",
    "\n",
    "# Method 1: Individual frequency tables for each variable\n",
    "print(\"Method 1: Individual frequency tables\")\n",
    "for column in df.columns:\n",
    "    print(f\"\\nFrequency table for {column}:\")\n",
    "    freq_table = df[column].value_counts().reset_index()\n",
    "    freq_table.columns = [column, 'Count']\n",
    "    print(freq_table)\n",
    "    # Add percentage\n",
    "    freq_table['Percentage'] = (freq_table['Count'] / freq_table['Count'].sum() * 100).round(2)\n",
    "    print(freq_table)\n",
    "\n",
    "# Method 2: Cross-tabulation between two variables\n",
    "print(\"\\nMethod 2: Cross-tabulation between Gender and Education\")\n",
    "cross_tab = pd.crosstab(df['Gender'], df['Education'])\n",
    "print(cross_tab)\n",
    "\n",
    "# Method 3: Cross-tabulation with percentages\n",
    "print(\"\\nMethod 3: Cross-tabulation with percentages\")\n",
    "cross_tab_pct = pd.crosstab(df['Gender'], df['Education'], normalize='index') * 100\n",
    "print(cross_tab_pct.round(2))\n",
    "\n",
    "# Method 4: Multi-level cross-tabulation (3 variables)\n",
    "print(\"\\nMethod 4: Multi-level cross-tabulation (Gender, Education, Region)\")\n",
    "multi_tab = pd.crosstab([df['Gender'], df['Education']], df['Region'])\n",
    "print(multi_tab)\n",
    "\n",
    "# Method 5: Using groupby to count frequencies across all combinations\n",
    "print(\"\\nMethod 5: Groupby frequency count across all 4 variables\")\n",
    "grouped = df.groupby(['Gender', 'Education', 'Region', 'Age_Group']).size().reset_index(name='Count')\n",
    "print(grouped.sort_values('Count', ascending=False).head(10))  # Top 10 combinations\n",
    "\n",
    "# Method 6: Pivot table for 3 variables with aggregation\n",
    "print(\"\\nMethod 6: Pivot table with Gender, Education, and Region\")\n",
    "pivot = pd.pivot_table(df, index=['Gender', 'Education'], \n",
    "                      columns='Region', \n",
    "                      values='Age_Group', \n",
    "                      aggfunc='count',\n",
    "                      fill_value=0)\n",
    "print(pivot)\n",
    "\n",
    "# Method 7: Visualizing frequencies with heatmap\n",
    "print(\"\\nMethod 7: Visualizing with heatmap (check the plot)\")\n",
    "plt.figure(figsize=(12, 8))\n",
    "cross_tab_plot = pd.crosstab(df['Gender'], df['Education'])\n",
    "sns.heatmap(cross_tab_plot, annot=True, cmap='YlGnBu', fmt='d')\n",
    "plt.title('Frequency Distribution: Gender vs Education')\n",
    "plt.tight_layout()\n",
    "# plt.show()  # Uncomment to display the plot"
   ]
  },
  {
   "cell_type": "code",
   "execution_count": null,
   "id": "ae6fe10e-a802-4de8-b402-7c0093bd60dc",
   "metadata": {},
   "outputs": [],
   "source": []
  }
 ],
 "metadata": {
  "kernelspec": {
   "display_name": "Python 3",
   "language": "python",
   "name": "python3"
  },
  "language_info": {
   "codemirror_mode": {
    "name": "ipython",
    "version": 3
   },
   "file_extension": ".py",
   "mimetype": "text/x-python",
   "name": "python",
   "nbconvert_exporter": "python",
   "pygments_lexer": "ipython3",
   "version": "3.12.1"
  },
  "panel-cell-order": [
   "762b4ff0-a557-4306-b387-fb28a9f83efe",
   "41ea59fb-846a-4f41-b3a1-72114ee14d3c",
   "31636551-2530-461d-aa3a-1e5e6d65ad24",
   "b5add083-aea6-452b-8e31-a9174e3056dc",
   "b048ca05-2028-431b-8aa8-7502a2839410",
   "ab4290ff-4f3b-4a21-89ad-117b31087c10",
   "434fcd34-556c-4674-86bb-ba861af91899",
   "d377749b-bacf-4a03-9e29-bf0d60b70782",
   "b693c740-e4f3-45a0-a517-e32d97b87c4b",
   "a1be82a8-d5a9-4eb8-b79d-8a8cefa57523",
   "e6ffaa2b-b252-4f47-9fd0-2a191957dedb",
   "a8aefd4f-4116-4d34-baa2-27bc358b66b4",
   "2ce8f826-22ae-499d-b5e8-8099467f85ae"
  ]
 },
 "nbformat": 4,
 "nbformat_minor": 5
}
