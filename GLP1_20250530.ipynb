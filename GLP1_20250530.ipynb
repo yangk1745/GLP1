{
 "cells": [
  {
   "cell_type": "markdown",
   "id": "762b4ff0-a557-4306-b387-fb28a9f83efe",
   "metadata": {
    "id": "1UTzwEPKwwrx",
    "panel-layout": {
     "height": 119.703,
     "visible": true,
     "width": 100
    }
   },
   "source": [
    "\n",
    "\n",
    "\n",
    "Kuo Yang\n",
    "Modified 5/30/25\n",
    "GLP1 Data Cleaning, results written to glp1dfa.csv file\n",
    "FAERS\n",
    "data source: FDA Adverse Events Reporting System (FAERS, from FDA.gov)\n",
    "filtered for dulaglutide, exenatide, liraglutide, semaglutide, tirzapetide, all cases, accessed 5/19/25"
   ]
  },
  {
   "cell_type": "markdown",
   "id": "41ea59fb-846a-4f41-b3a1-72114ee14d3c",
   "metadata": {
    "id": "Egn3Ul0hda4G",
    "panel-layout": {
     "height": 68.2812,
     "visible": true,
     "width": 100
    }
   },
   "source": [
    "Disclaimer: This is for academic coursework ONLY. Do not use for clinical decision making; no causations implied in analysis. See end of document for full disclosure/disclaimer."
   ]
  },
  {
   "cell_type": "code",
   "execution_count": 1,
   "id": "0e910fa3-7d2e-49e0-a3ac-f00a7341cc31",
   "metadata": {
    "colab": {
     "base_uri": "https://localhost:8080/"
    },
    "execution": {
     "iopub.execute_input": "2025-05-20T18:30:52.863520Z",
     "iopub.status.busy": "2025-05-20T18:30:52.863123Z",
     "iopub.status.idle": "2025-05-20T18:30:57.872995Z",
     "shell.execute_reply": "2025-05-20T18:30:57.872466Z",
     "shell.execute_reply.started": "2025-05-20T18:30:52.863497Z"
    },
    "executionInfo": {
     "elapsed": 1272,
     "status": "ok",
     "timestamp": 1743395631738,
     "user": {
      "displayName": "k yang",
      "userId": "17348518058419063176"
     },
     "user_tz": 420
    },
    "id": "L8hi4E4SUT3l",
    "outputId": "10a7fb45-df22-4b44-dfeb-f395a9fe7795"
   },
   "outputs": [],
   "source": [
    "import numpy as np\n",
    "import pandas as pd\n",
    "from pandas.api.types import is_integer_dtype\n",
    "\n"
   ]
  },
  {
   "cell_type": "code",
   "execution_count": 2,
   "id": "e787fadc",
   "metadata": {
    "execution": {
     "iopub.execute_input": "2025-05-20T18:31:29.477214Z",
     "iopub.status.busy": "2025-05-20T18:31:29.476879Z",
     "iopub.status.idle": "2025-05-20T18:32:49.421137Z",
     "shell.execute_reply": "2025-05-20T18:32:49.420336Z",
     "shell.execute_reply.started": "2025-05-20T18:31:29.477190Z"
    }
   },
   "outputs": [],
   "source": [
    "dlgtdf = pd.read_excel('d_dlgt.xlsx') #dulaglutide\n",
    "exntdf = pd.read_excel('d_exnt.xlsx') #exenatide\n",
    "lrgtdf = pd.read_excel('d_lrgt.xlsx') #liraglutide\n",
    "smgtadf = pd.read_excel('d_smgt_a.xlsx') #semalutide\n",
    "smgtbdf = pd.read_excel('d_smgt_b.xlsx')\n",
    "tzptadf = pd.read_excel('d_tzpt_a.xlsx') #tirzapetide\n",
    "tzptbdf = pd.read_excel('d_tzpt_b.xlsx')"
   ]
  },
  {
   "cell_type": "markdown",
   "id": "2e9deb0d",
   "metadata": {},
   "source": [
    "Create new column \"api1\", dulaglutide=1, exenatide=2, liraglutide=3,semaglutide=4,tirzapetide=5"
   ]
  },
  {
   "cell_type": "code",
   "execution_count": 3,
   "id": "634f5c7b",
   "metadata": {
    "execution": {
     "iopub.execute_input": "2025-05-20T18:35:27.022539Z",
     "iopub.status.busy": "2025-05-20T18:35:27.022255Z",
     "iopub.status.idle": "2025-05-20T18:35:27.028606Z",
     "shell.execute_reply": "2025-05-20T18:35:27.027870Z",
     "shell.execute_reply.started": "2025-05-20T18:35:27.022519Z"
    }
   },
   "outputs": [],
   "source": [
    "dlgtdf['api1']=1\n",
    "exntdf['api1']=2\n",
    "lrgtdf['api1']=3\n",
    "smgtadf['api1']=4\n",
    "smgtbdf['api1']=4\n",
    "tzptadf['api1']=5\n",
    "tzptbdf['api1']=5"
   ]
  },
  {
   "cell_type": "code",
   "execution_count": 4,
   "id": "9a92da29",
   "metadata": {
    "execution": {
     "iopub.execute_input": "2025-05-20T03:42:39.539082Z",
     "iopub.status.busy": "2025-05-20T03:42:39.538518Z",
     "iopub.status.idle": "2025-05-20T03:42:39.652889Z",
     "shell.execute_reply": "2025-05-20T03:42:39.652209Z",
     "shell.execute_reply.started": "2025-05-20T03:42:39.539053Z"
    }
   },
   "outputs": [],
   "source": [
    "glp1df = pd.concat([dlgtdf,exntdf,lrgtdf,smgtadf,smgtbdf,tzptadf,tzptbdf],ignore_index=True)"
   ]
  },
  {
   "cell_type": "code",
   "execution_count": 5,
   "id": "31636551-2530-461d-aa3a-1e5e6d65ad24",
   "metadata": {
    "execution": {
     "iopub.execute_input": "2025-05-20T03:42:47.112390Z",
     "iopub.status.busy": "2025-05-20T03:42:47.112117Z",
     "iopub.status.idle": "2025-05-20T03:42:47.380184Z",
     "shell.execute_reply": "2025-05-20T03:42:47.379436Z",
     "shell.execute_reply.started": "2025-05-20T03:42:47.112371Z"
    },
    "panel-layout": {
     "height": 27.1406,
     "visible": true,
     "width": 100
    }
   },
   "outputs": [
    {
     "name": "stdout",
     "output_type": "stream",
     "text": [
      "<class 'pandas.core.frame.DataFrame'>\n",
      "RangeIndex: 300554 entries, 0 to 300553\n",
      "Data columns (total 25 columns):\n",
      " #   Column                              Non-Null Count   Dtype \n",
      "---  ------                              --------------   ----- \n",
      " 0   Case ID                             300554 non-null  int64 \n",
      " 1   Suspect Product Names               300554 non-null  object\n",
      " 2   Suspect Product Active Ingredients  300554 non-null  object\n",
      " 3   Reason for Use                      300554 non-null  object\n",
      " 4   Reactions                           300554 non-null  object\n",
      " 5   Serious                             300554 non-null  object\n",
      " 6   Outcomes                            300554 non-null  object\n",
      " 7   Sex                                 300554 non-null  object\n",
      " 8   Event Date                          300554 non-null  object\n",
      " 9   Latest FDA Received Date            300554 non-null  object\n",
      " 10  Case Priority                       300554 non-null  object\n",
      " 11  Patient Age                         300554 non-null  object\n",
      " 12  Patient Weight                      300554 non-null  object\n",
      " 13  Sender                              300554 non-null  object\n",
      " 14  Reporter Type                       300554 non-null  object\n",
      " 15  Report Source                       300554 non-null  object\n",
      " 16  Concomitant Product Names           300554 non-null  object\n",
      " 17  Latest Manufacturer Received Date   300554 non-null  object\n",
      " 18  Initial FDA Received Date           300554 non-null  object\n",
      " 19  Country where Event occurred        300554 non-null  object\n",
      " 20  Reported to Manufacturer?           300554 non-null  object\n",
      " 21  Manufacturer Control Number         300554 non-null  object\n",
      " 22  Literature Reference                300554 non-null  object\n",
      " 23  Compounded Flag                     300554 non-null  object\n",
      " 24  api1                                300554 non-null  int64 \n",
      "dtypes: int64(2), object(23)\n",
      "memory usage: 57.3+ MB\n"
     ]
    }
   ],
   "source": [
    "glp1df.info()"
   ]
  },
  {
   "cell_type": "code",
   "execution_count": 6,
   "id": "dee58e38",
   "metadata": {
    "execution": {
     "iopub.execute_input": "2025-05-20T03:42:57.232443Z",
     "iopub.status.busy": "2025-05-20T03:42:57.231949Z",
     "iopub.status.idle": "2025-05-20T03:42:57.236147Z",
     "shell.execute_reply": "2025-05-20T03:42:57.235374Z",
     "shell.execute_reply.started": "2025-05-20T03:42:57.232421Z"
    }
   },
   "outputs": [
    {
     "name": "stdout",
     "output_type": "stream",
     "text": [
      "Index(['Case ID', 'Suspect Product Names',\n",
      "       'Suspect Product Active Ingredients', 'Reason for Use', 'Reactions',\n",
      "       'Serious', 'Outcomes', 'Sex', 'Event Date', 'Latest FDA Received Date',\n",
      "       'Case Priority', 'Patient Age', 'Patient Weight', 'Sender',\n",
      "       'Reporter Type', 'Report Source', 'Concomitant Product Names',\n",
      "       'Latest Manufacturer Received Date', 'Initial FDA Received Date',\n",
      "       'Country where Event occurred', 'Reported to Manufacturer?',\n",
      "       'Manufacturer Control Number', 'Literature Reference',\n",
      "       'Compounded Flag', 'api1'],\n",
      "      dtype='object')\n"
     ]
    }
   ],
   "source": [
    "print(glp1df.columns)"
   ]
  },
  {
   "cell_type": "code",
   "execution_count": 7,
   "id": "b5add083-aea6-452b-8e31-a9174e3056dc",
   "metadata": {
    "colab": {
     "base_uri": "https://localhost:8080/"
    },
    "execution": {
     "iopub.execute_input": "2025-05-20T03:43:02.690291Z",
     "iopub.status.busy": "2025-05-20T03:43:02.689637Z",
     "iopub.status.idle": "2025-05-20T03:43:02.819205Z",
     "shell.execute_reply": "2025-05-20T03:43:02.818243Z",
     "shell.execute_reply.started": "2025-05-20T03:43:02.690256Z"
    },
    "executionInfo": {
     "elapsed": 58,
     "status": "ok",
     "timestamp": 1743397256775,
     "user": {
      "displayName": "k yang",
      "userId": "17348518058419063176"
     },
     "user_tz": 420
    },
    "id": "8gfwys32wEU7",
    "outputId": "6bcfc14e-7c4b-4b10-9fca-9a2f5045b24b",
    "panel-layout": {
     "height": 0,
     "visible": true,
     "width": 100
    }
   },
   "outputs": [
    {
     "name": "stdout",
     "output_type": "stream",
     "text": [
      "unique values of Sex = ['Male' 'Female' 'Not Specified'] \n",
      " 🐈🐈🐈🐈🐈🐈🐈🐈🐈🐈🐈🐈🐈🐈🐈🐈🐈🐈🐈🐈\n",
      "unique values of Serious = ['Non-Serious' 'Serious'] \n",
      " 🐈🐈🐈🐈🐈🐈🐈🐈🐈🐈🐈🐈🐈🐈🐈🐈🐈🐈🐈🐈\n",
      "unique values of Outcomes = ['Non-Serious' 'Hospitalized' 'Other Outcomes;Hospitalized'\n",
      " 'Other Outcomes' 'Required Intervention;Hospitalized'\n",
      " 'Hospitalized;Other Outcomes'\n",
      " 'Other Outcomes;Life Threatening;Hospitalized' 'Hospitalized;Died'\n",
      " 'Life Threatening' 'Disabled' 'Died;Hospitalized' 'Died'\n",
      " 'Hospitalized;Required Intervention' 'Other Outcomes;Life Threatening'\n",
      " 'Hospitalized;Other Outcomes;Life Threatening'\n",
      " 'Died;Hospitalized;Other Outcomes' 'Life Threatening;Other Outcomes'\n",
      " 'Other Outcomes;Died' 'Hospitalized;Disabled;Other Outcomes'\n",
      " 'Congenital Anomaly;Other Outcomes;Hospitalized'\n",
      " 'Hospitalized;Died;Other Outcomes'\n",
      " 'Required Intervention;Hospitalized;Life Threatening'\n",
      " 'Congenital Anomaly;Other Outcomes'\n",
      " 'Life Threatening;Other Outcomes;Hospitalized'\n",
      " 'Hospitalized;Life Threatening;Other Outcomes'\n",
      " 'Life Threatening;Hospitalized' 'Other Outcomes;Hospitalized;Died'\n",
      " 'Died;Other Outcomes'\n",
      " 'Hospitalized;Life Threatening;Required Intervention'\n",
      " 'Hospitalized;Life Threatening;Required Intervention;Disabled;Other Outcomes'\n",
      " 'Other Outcomes;Disabled' 'Disabled;Other Outcomes'\n",
      " 'Life Threatening;Hospitalized;Disabled'\n",
      " 'Hospitalized;Other Outcomes;Died' 'Congenital Anomaly'\n",
      " 'Other Outcomes;Congenital Anomaly' 'Required Intervention'\n",
      " 'Required Intervention;Life Threatening;Other Outcomes'\n",
      " 'Life Threatening;Disabled'\n",
      " 'Life Threatening;Hospitalized;Other Outcomes' 'Life Threatening;Died'\n",
      " 'Disabled;Hospitalized;Other Outcomes'\n",
      " 'Other Outcomes;Disabled;Hospitalized'\n",
      " 'Life Threatening;Other Outcomes;Disabled;Hospitalized;Died;Required Intervention'\n",
      " 'Disabled;Other Outcomes;Hospitalized' 'Hospitalized;Life Threatening'\n",
      " 'Life Threatening;Required Intervention'\n",
      " 'Other Outcomes;Required Intervention' 'Died;Other Outcomes;Hospitalized'\n",
      " 'Life Threatening;Required Intervention;Disabled' 'Disabled;Hospitalized'\n",
      " 'Hospitalized;Disabled' 'Life Threatening;Died;Hospitalized;Disabled'\n",
      " 'Other Outcomes;Required Intervention;Life Threatening;Hospitalized'\n",
      " 'Required Intervention;Disabled' 'Life Threatening;Disabled;Hospitalized'\n",
      " 'Required Intervention;Disabled;Life Threatening;Hospitalized'\n",
      " 'Other Outcomes;Life Threatening;Disabled'\n",
      " 'Hospitalized;Life Threatening;Required Intervention;Disabled'\n",
      " 'Disabled;Other Outcomes;Life Threatening'\n",
      " 'Other Outcomes;Hospitalized;Life Threatening'\n",
      " 'Other Outcomes;Hospitalized;Disabled' 'Disabled;Life Threatening'\n",
      " 'Disabled;Hospitalized;Required Intervention;Died;Life Threatening'\n",
      " 'Required Intervention;Disabled;Hospitalized'\n",
      " 'Died;Life Threatening;Hospitalized' 'Life Threatening;Hospitalized;Died'\n",
      " 'Other Outcomes;Died;Hospitalized' 'Disabled;Required Intervention'\n",
      " 'Required Intervention;Other Outcomes'\n",
      " 'Life Threatening;Hospitalized;Disabled;Required Intervention'\n",
      " 'Died;Other Outcomes;Life Threatening'\n",
      " 'Died;Hospitalized;Life Threatening'\n",
      " 'Life Threatening;Required Intervention;Hospitalized'\n",
      " 'Disabled;Other Outcomes;Life Threatening;Hospitalized'\n",
      " 'Hospitalized;Required Intervention;Life Threatening'\n",
      " 'Other Outcomes;Died;Life Threatening'\n",
      " 'Disabled;Hospitalized;Life Threatening'\n",
      " 'Died;Hospitalized;Life Threatening;Other Outcomes'\n",
      " 'Hospitalized;Other Outcomes;Died;Life Threatening'\n",
      " 'Other Outcomes;Disabled;Required Intervention' 'Disabled;Died'\n",
      " 'Hospitalized;Life Threatening;Disabled'\n",
      " 'Other Outcomes;Hospitalized;Life Threatening;Disabled'\n",
      " 'Died;Other Outcomes;Disabled'\n",
      " 'Other Outcomes;Disabled;Life Threatening;Hospitalized'\n",
      " 'Life Threatening;Died;Other Outcomes;Hospitalized'\n",
      " 'Required Intervention;Hospitalized;Other Outcomes'\n",
      " 'Hospitalized;Congenital Anomaly;Life Threatening'\n",
      " 'Life Threatening;Died;Hospitalized'\n",
      " 'Disabled;Life Threatening;Other Outcomes'\n",
      " 'Hospitalized;Other Outcomes;Disabled'\n",
      " 'Hospitalized;Other Outcomes;Disabled;Life Threatening'\n",
      " 'Died;Other Outcomes;Life Threatening;Hospitalized'\n",
      " 'Hospitalized;Disabled;Life Threatening;Other Outcomes'\n",
      " 'Other Outcomes;Died;Hospitalized;Life Threatening'\n",
      " 'Hospitalized;Died;Life Threatening'\n",
      " 'Other Outcomes;Hospitalized;Died;Life Threatening'\n",
      " 'Disabled;Hospitalized;Life Threatening;Other Outcomes'\n",
      " 'Disabled;Other Outcomes;Hospitalized;Life Threatening'\n",
      " 'Hospitalized;Disabled;Life Threatening'\n",
      " 'Life Threatening;Other Outcomes;Died'\n",
      " 'Hospitalized;Died;Other Outcomes;Life Threatening'\n",
      " 'Hospitalized;Died;Other Outcomes;Disabled'\n",
      " 'Died;Disabled;Other Outcomes'\n",
      " 'Life Threatening;Hospitalized;Died;Disabled;Other Outcomes'\n",
      " 'Died;Life Threatening;Disabled;Other Outcomes;Hospitalized'\n",
      " 'Life Threatening;Died;Other Outcomes' 'Other Outcomes;Died;Disabled'\n",
      " 'Disabled;Died;Other Outcomes'\n",
      " 'Disabled;Other Outcomes;Hospitalized;Died'\n",
      " 'Hospitalized;Congenital Anomaly'\n",
      " 'Other Outcomes;Hospitalized;Disabled;Died'\n",
      " 'Disabled;Life Threatening;Hospitalized;Other Outcomes'\n",
      " 'Hospitalized;Life Threatening;Died'\n",
      " 'Hospitalized;Other Outcomes;Life Threatening;Disabled'\n",
      " 'Life Threatening;Disabled;Other Outcomes;Required Intervention'\n",
      " 'Died;Disabled' 'Life Threatening;Other Outcomes;Died;Hospitalized'\n",
      " 'Died;Other Outcomes;Hospitalized;Disabled'\n",
      " 'Congenital Anomaly;Hospitalized'\n",
      " 'Hospitalized;Life Threatening;Other Outcomes;Died'\n",
      " 'Hospitalized;Other Outcomes;Life Threatening;Died'\n",
      " 'Died;Disabled;Hospitalized;Other Outcomes'\n",
      " 'Hospitalized;Disabled;Died;Other Outcomes'\n",
      " 'Hospitalized;Died;Disabled;Other Outcomes'\n",
      " 'Life Threatening;Disabled;Hospitalized;Other Outcomes'\n",
      " 'Other Outcomes;Died;Disabled;Hospitalized'\n",
      " 'Died;Other Outcomes;Hospitalized;Life Threatening'\n",
      " 'Died;Life Threatening;Other Outcomes;Hospitalized'\n",
      " 'Disabled;Life Threatening;Other Outcomes;Hospitalized'\n",
      " 'Life Threatening;Hospitalized;Other Outcomes;Died'\n",
      " 'Disabled;Life Threatening;Hospitalized;Died;Other Outcomes'\n",
      " 'Life Threatening;Died;Hospitalized;Other Outcomes'\n",
      " 'Disabled;Hospitalized;Died;Other Outcomes;Life Threatening'\n",
      " 'Died;Other Outcomes;Life Threatening;Hospitalized;Disabled'\n",
      " 'Died;Other Outcomes;Disabled;Hospitalized;Life Threatening'\n",
      " 'Died;Life Threatening;Other Outcomes'\n",
      " 'Died;Disabled;Other Outcomes;Hospitalized'\n",
      " 'Hospitalized;Life Threatening;Died;Other Outcomes'\n",
      " 'Required Intervention;Other Outcomes;Hospitalized;Life Threatening'\n",
      " 'Died;Life Threatening;Hospitalized;Other Outcomes'\n",
      " 'Hospitalized;Died;Other Outcomes;Life Threatening;Disabled'\n",
      " 'Hospitalized;Disabled;Other Outcomes;Died'\n",
      " 'Other Outcomes;Hospitalized;Died;Disabled'\n",
      " 'Life Threatening;Hospitalized;Disabled;Died;Other Outcomes'\n",
      " 'Hospitalized;Died;Life Threatening;Other Outcomes'\n",
      " 'Disabled;Life Threatening;Hospitalized'\n",
      " 'Hospitalized;Disabled;Other Outcomes;Life Threatening;Died'\n",
      " 'Disabled;Died;Other Outcomes;Hospitalized'\n",
      " 'Died;Hospitalized;Disabled;Other Outcomes'\n",
      " 'Life Threatening;Other Outcomes;Died;Disabled'\n",
      " 'Life Threatening;Died;Disabled;Other Outcomes'\n",
      " 'Died;Other Outcomes;Required Intervention'\n",
      " 'Died;Disabled;Other Outcomes;Life Threatening;Hospitalized'\n",
      " 'Other Outcomes;Hospitalized;Life Threatening;Died'\n",
      " 'Life Threatening;Other Outcomes;Hospitalized;Died;Disabled'\n",
      " 'Disabled;Life Threatening;Other Outcomes;Hospitalized;Died'\n",
      " 'Hospitalized;Died;Life Threatening;Disabled;Other Outcomes'\n",
      " 'Life Threatening;Disabled;Other Outcomes'\n",
      " 'Hospitalized;Other Outcomes;Life Threatening;Disabled;Died'\n",
      " 'Disabled;Other Outcomes;Died;Hospitalized'\n",
      " 'Life Threatening;Died;Disabled;Hospitalized;Other Outcomes'\n",
      " 'Life Threatening;Other Outcomes;Hospitalized;Died'\n",
      " 'Disabled;Other Outcomes;Died' 'Died;Life Threatening'\n",
      " 'Life Threatening;Other Outcomes;Hospitalized;Disabled;Died'\n",
      " 'Other Outcomes;Disabled;Died;Hospitalized'\n",
      " 'Life Threatening;Hospitalized;Other Outcomes;Disabled'\n",
      " 'Life Threatening;Disabled;Other Outcomes;Hospitalized'\n",
      " 'Hospitalized;Other Outcomes;Died;Disabled'\n",
      " 'Died;Other Outcomes;Congenital Anomaly'\n",
      " 'Required Intervention;Life Threatening;Hospitalized'\n",
      " 'Life Threatening;Hospitalized;Died;Other Outcomes'\n",
      " 'Other Outcomes;Disabled;Hospitalized;Life Threatening'\n",
      " 'Life Threatening;Hospitalized;Other Outcomes;Died;Disabled'\n",
      " 'Died;Hospitalized;Other Outcomes;Disabled'\n",
      " 'Required Intervention;Life Threatening;Hospitalized;Congenital Anomaly;Other Outcomes;Died;Disabled'\n",
      " 'Disabled;Hospitalized;Died;Other Outcomes'\n",
      " 'Hospitalized;Life Threatening;Other Outcomes;Died;Congenital Anomaly'\n",
      " 'Required Intervention;Died;Other Outcomes;Hospitalized;Life Threatening'\n",
      " 'Required Intervention;Congenital Anomaly'\n",
      " 'Hospitalized;Life Threatening;Other Outcomes;Disabled'\n",
      " 'Died;Hospitalized;Other Outcomes;Life Threatening'\n",
      " 'Life Threatening;Other Outcomes;Disabled'\n",
      " 'Other Outcomes;Life Threatening;Died;Hospitalized'\n",
      " 'Hospitalized;Other Outcomes;Disabled;Required Intervention'\n",
      " 'Other Outcomes;Disabled;Life Threatening' 'Congenital Anomaly;Died'\n",
      " 'Required Intervention;Other Outcomes;Hospitalized'\n",
      " 'Life Threatening;Other Outcomes;Required Intervention'\n",
      " 'Required Intervention;Life Threatening;Disabled;Hospitalized;Other Outcomes'\n",
      " 'Life Threatening;Other Outcomes;Required Intervention;Hospitalized;Disabled'\n",
      " 'Life Threatening;Hospitalized;Other Outcomes;Required Intervention'\n",
      " 'Life Threatening;Other Outcomes;Required Intervention;Hospitalized'\n",
      " 'Other Outcomes;Required Intervention;Life Threatening;Disabled'\n",
      " 'Required Intervention;Hospitalized;Disabled'\n",
      " 'Other Outcomes;Life Threatening;Hospitalized;Died'\n",
      " 'Hospitalized;Other Outcomes;Life Threatening;Required Intervention;Disabled'\n",
      " 'Life Threatening;Other Outcomes;Hospitalized;Disabled'\n",
      " 'Life Threatening;Disabled;Required Intervention;Hospitalized'\n",
      " 'Other Outcomes;Life Threatening;Hospitalized;Disabled'\n",
      " 'Required Intervention;Life Threatening;Hospitalized;Other Outcomes;Disabled'\n",
      " 'Disabled;Other Outcomes;Life Threatening;Died;Hospitalized'\n",
      " 'Other Outcomes;Died;Life Threatening;Hospitalized'\n",
      " 'Hospitalized;Disabled;Other Outcomes;Required Intervention'\n",
      " 'Hospitalized;Disabled;Other Outcomes;Life Threatening'\n",
      " 'Disabled;Died;Hospitalized;Life Threatening;Other Outcomes;Congenital Anomaly'\n",
      " 'Life Threatening;Other Outcomes;Hospitalized;Congenital Anomaly;Disabled'\n",
      " 'Other Outcomes;Required Intervention;Hospitalized;Life Threatening'\n",
      " 'Congenital Anomaly;Hospitalized;Other Outcomes'\n",
      " 'Disabled;Required Intervention;Other Outcomes'\n",
      " 'Hospitalized;Life Threatening;Disabled;Other Outcomes;Required Intervention'\n",
      " 'Life Threatening;Required Intervention;Other Outcomes;Hospitalized'\n",
      " 'Other Outcomes;Hospitalized;Required Intervention'\n",
      " 'Hospitalized;Other Outcomes;Required Intervention'\n",
      " 'Life Threatening;Hospitalized;Required Intervention'\n",
      " 'Disabled;Required Intervention;Hospitalized'\n",
      " 'Life Threatening;Required Intervention;Other Outcomes'\n",
      " 'Other Outcomes;Life Threatening;Died' 'Hospitalized;Disabled;Died'\n",
      " 'Other Outcomes;Disabled;Congenital Anomaly;Hospitalized'\n",
      " 'Hospitalized;Life Threatening;Disabled;Other Outcomes'\n",
      " 'Hospitalized;Life Threatening;Died;Disabled'\n",
      " 'Other Outcomes;Required Intervention;Hospitalized'\n",
      " 'Congenital Anomaly;Hospitalized;Life Threatening;Other Outcomes'\n",
      " 'Disabled;Life Threatening;Hospitalized;Died'\n",
      " 'Hospitalized;Required Intervention;Disabled'\n",
      " 'Other Outcomes;Died;Hospitalized;Disabled;Life Threatening'\n",
      " 'Other Outcomes;Died;Life Threatening;Hospitalized;Disabled'\n",
      " 'Hospitalized;Died;Disabled'\n",
      " 'Other Outcomes;Life Threatening;Required Intervention'\n",
      " 'Other Outcomes;Died;Hospitalized;Disabled'\n",
      " 'Other Outcomes;Died;Hospitalized;Life Threatening;Disabled'\n",
      " 'Died;Congenital Anomaly'\n",
      " 'Disabled;Life Threatening;Required Intervention;Hospitalized'\n",
      " 'Required Intervention;Other Outcomes;Hospitalized;Life Threatening;Disabled'\n",
      " 'Life Threatening;Disabled;Died'\n",
      " 'Required Intervention;Life Threatening;Hospitalized;Other Outcomes'\n",
      " 'Hospitalized;Required Intervention;Other Outcomes'\n",
      " 'Disabled;Other Outcomes;Required Intervention'\n",
      " 'Hospitalized;Disabled;Required Intervention;Life Threatening'\n",
      " 'Life Threatening;Hospitalized;Disabled;Other Outcomes'\n",
      " 'Required Intervention;Disabled;Other Outcomes'\n",
      " 'Disabled;Required Intervention;Life Threatening;Hospitalized'\n",
      " 'Required Intervention;Disabled;Life Threatening'\n",
      " 'Required Intervention;Life Threatening;Other Outcomes;Disabled'\n",
      " 'Required Intervention;Other Outcomes;Disabled'\n",
      " 'Other Outcomes;Required Intervention;Life Threatening'\n",
      " 'Hospitalized;Life Threatening;Disabled;Required Intervention;Other Outcomes'\n",
      " 'Required Intervention;Died'\n",
      " 'Other Outcomes;Required Intervention;Disabled'\n",
      " 'Hospitalized;Disabled;Required Intervention;Other Outcomes'\n",
      " 'Required Intervention;Life Threatening'\n",
      " 'Hospitalized;Other Outcomes;Required Intervention;Life Threatening'\n",
      " 'Disabled;Required Intervention;Life Threatening'\n",
      " 'Life Threatening;Died;Required Intervention;Hospitalized'\n",
      " 'Life Threatening;Required Intervention;Hospitalized;Disabled'\n",
      " 'Hospitalized;Disabled;Required Intervention'\n",
      " 'Other Outcomes;Life Threatening;Hospitalized;Required Intervention'\n",
      " 'Other Outcomes;Hospitalized;Disabled;Required Intervention'\n",
      " 'Hospitalized;Required Intervention;Life Threatening;Other Outcomes'\n",
      " 'Other Outcomes;Disabled;Hospitalized;Required Intervention'\n",
      " 'Died;Required Intervention;Hospitalized'\n",
      " 'Hospitalized;Life Threatening;Required Intervention;Other Outcomes'\n",
      " 'Required Intervention;Other Outcomes;Disabled;Hospitalized;Life Threatening'\n",
      " 'Required Intervention;Died;Life Threatening'\n",
      " 'Disabled;Life Threatening;Required Intervention;Hospitalized;Other Outcomes'\n",
      " 'Disabled;Other Outcomes;Required Intervention;Life Threatening'\n",
      " 'Life Threatening;Hospitalized;Other Outcomes;Disabled;Required Intervention'\n",
      " 'Hospitalized;Died;Other Outcomes;Life Threatening;Disabled;Congenital Anomaly'\n",
      " 'Disabled;Life Threatening;Died;Other Outcomes;Hospitalized'\n",
      " 'Hospitalized;Required Intervention;Died'\n",
      " 'Required Intervention;Disabled;Hospitalized;Life Threatening'\n",
      " 'Required Intervention;Hospitalized;Disabled;Life Threatening'\n",
      " 'Life Threatening;Disabled;Required Intervention'\n",
      " 'Life Threatening;Disabled;Other Outcomes;Required Intervention;Hospitalized'\n",
      " 'Life Threatening;Required Intervention;Hospitalized;Other Outcomes'\n",
      " 'Other Outcomes;Required Intervention;Disabled;Life Threatening'\n",
      " 'Required Intervention;Life Threatening;Hospitalized;Disabled'\n",
      " 'Life Threatening;Disabled;Required Intervention;Other Outcomes'\n",
      " 'Disabled;Life Threatening;Hospitalized;Required Intervention'\n",
      " 'Hospitalized;Disabled;Life Threatening;Required Intervention;Other Outcomes'\n",
      " 'Congenital Anomaly;Disabled;Other Outcomes'\n",
      " 'Hospitalized;Required Intervention;Life Threatening;Disabled'\n",
      " 'Other Outcomes;Life Threatening;Disabled;Required Intervention'\n",
      " 'Died;Hospitalized;Life Threatening;Required Intervention'\n",
      " 'Disabled;Other Outcomes;Required Intervention;Hospitalized'\n",
      " 'Required Intervention;Hospitalized;Other Outcomes;Life Threatening'\n",
      " 'Hospitalized;Other Outcomes;Life Threatening;Disabled;Required Intervention'\n",
      " 'Other Outcomes;Disabled;Died;Life Threatening;Hospitalized'\n",
      " 'Required Intervention;Disabled;Other Outcomes;Life Threatening'\n",
      " 'Hospitalized;Other Outcomes;Required Intervention;Disabled'\n",
      " 'Other Outcomes;Hospitalized;Required Intervention;Disabled'\n",
      " 'Disabled;Other Outcomes;Hospitalized;Required Intervention'\n",
      " 'Life Threatening;Disabled;Hospitalized;Required Intervention'\n",
      " 'Disabled;Hospitalized;Other Outcomes;Life Threatening;Required Intervention'\n",
      " 'Life Threatening;Other Outcomes;Hospitalized;Disabled;Required Intervention'\n",
      " 'Other Outcomes;Disabled;Hospitalized;Life Threatening;Required Intervention'\n",
      " 'Disabled;Hospitalized;Other Outcomes;Required Intervention;Life Threatening'\n",
      " 'Hospitalized;Disabled;Life Threatening;Required Intervention'\n",
      " 'Other Outcomes;Hospitalized;Required Intervention;Life Threatening'\n",
      " 'Life Threatening;Other Outcomes;Required Intervention;Disabled'\n",
      " 'Other Outcomes;Required Intervention;Hospitalized;Disabled'\n",
      " 'Hospitalized;Required Intervention;Disabled;Life Threatening'\n",
      " 'Life Threatening;Other Outcomes;Disabled;Required Intervention;Hospitalized'\n",
      " 'Required Intervention;Other Outcomes;Life Threatening'\n",
      " 'Required Intervention;Other Outcomes;Life Threatening;Hospitalized'\n",
      " 'Life Threatening;Hospitalized;Required Intervention;Other Outcomes;Disabled'\n",
      " 'Disabled;Hospitalized;Congenital Anomaly;Life Threatening'\n",
      " 'Disabled;Required Intervention;Other Outcomes;Life Threatening'\n",
      " 'Hospitalized;Life Threatening;Other Outcomes;Disabled;Died'\n",
      " 'Died;Required Intervention;Hospitalized;Disabled;Life Threatening'\n",
      " 'Hospitalized;Other Outcomes;Disabled;Died'\n",
      " 'Disabled;Hospitalized;Required Intervention'\n",
      " 'Hospitalized;Died;Other Outcomes;Required Intervention'\n",
      " 'Life Threatening;Other Outcomes;Hospitalized;Required Intervention'\n",
      " 'Required Intervention;Life Threatening;Disabled;Other Outcomes'\n",
      " 'Congenital Anomaly;Other Outcomes;Life Threatening;Disabled;Hospitalized'\n",
      " 'Other Outcomes;Disabled;Life Threatening;Hospitalized;Required Intervention'\n",
      " 'Life Threatening;Hospitalized;Required Intervention;Disabled'\n",
      " 'Other Outcomes;Required Intervention;Disabled;Hospitalized;Life Threatening'\n",
      " 'Hospitalized;Required Intervention;Other Outcomes;Life Threatening'\n",
      " 'Required Intervention;Hospitalized;Life Threatening;Disabled'\n",
      " 'Life Threatening;Disabled;Hospitalized;Other Outcomes;Required Intervention'] \n",
      " 🐈🐈🐈🐈🐈🐈🐈🐈🐈🐈🐈🐈🐈🐈🐈🐈🐈🐈🐈🐈\n",
      "unique values of api1 = [1 2 3 4 5] \n",
      " 🐈🐈🐈🐈🐈🐈🐈🐈🐈🐈🐈🐈🐈🐈🐈🐈🐈🐈🐈🐈\n",
      "unique values of Compounded Flag = ['-' 'Yes'] \n",
      " 🐈🐈🐈🐈🐈🐈🐈🐈🐈🐈🐈🐈🐈🐈🐈🐈🐈🐈🐈🐈\n"
     ]
    }
   ],
   "source": [
    "varsel = list(['Serious','Outcomes','Sex','api1','Patient Age','Compounded Flag'])\n",
    "glp1dfa = glp1df[varsel]\n",
    "\n",
    "def meow2(df,clmn):\n",
    "    for i in clmn:\n",
    "        col1 = df[i].unique()\n",
    "        print('unique values of',i,'=',col1,'\\n',\"\\U0001F408\"*20)\n",
    "\n",
    "varsel2 = list(['Sex','Serious','Outcomes','api1','Compounded Flag'])\n",
    "meow2(df=glp1dfa,clmn=varsel2)\n"
   ]
  },
  {
   "cell_type": "code",
   "execution_count": 8,
   "id": "cef944df-c066-4ce5-8739-5ae605fccbd0",
   "metadata": {
    "execution": {
     "iopub.execute_input": "2025-05-20T03:59:13.096654Z",
     "iopub.status.busy": "2025-05-20T03:59:13.096382Z",
     "iopub.status.idle": "2025-05-20T03:59:13.535264Z",
     "shell.execute_reply": "2025-05-20T03:59:13.534405Z",
     "shell.execute_reply.started": "2025-05-20T03:59:13.096633Z"
    }
   },
   "outputs": [
    {
     "name": "stderr",
     "output_type": "stream",
     "text": [
      "/tmp/ipykernel_1728/1958287203.py:1: SettingWithCopyWarning: \n",
      "A value is trying to be set on a copy of a slice from a DataFrame.\n",
      "Try using .loc[row_indexer,col_indexer] = value instead\n",
      "\n",
      "See the caveats in the documentation: https://pandas.pydata.org/pandas-docs/stable/user_guide/indexing.html#returning-a-view-versus-a-copy\n",
      "  glp1dfa['sex2'] = glp1dfa['Sex'].map({'Female':0,'Male':1,'Not Specified':3})\n",
      "/tmp/ipykernel_1728/1958287203.py:2: SettingWithCopyWarning: \n",
      "A value is trying to be set on a copy of a slice from a DataFrame.\n",
      "Try using .loc[row_indexer,col_indexer] = value instead\n",
      "\n",
      "See the caveats in the documentation: https://pandas.pydata.org/pandas-docs/stable/user_guide/indexing.html#returning-a-view-versus-a-copy\n",
      "  glp1dfa['serious2'] = glp1dfa['Serious'].map({'Non-Serious':0,'Serious':1})\n",
      "/tmp/ipykernel_1728/1958287203.py:3: SettingWithCopyWarning: \n",
      "A value is trying to be set on a copy of a slice from a DataFrame.\n",
      "Try using .loc[row_indexer,col_indexer] = value instead\n",
      "\n",
      "See the caveats in the documentation: https://pandas.pydata.org/pandas-docs/stable/user_guide/indexing.html#returning-a-view-versus-a-copy\n",
      "  glp1dfa['died'] = glp1dfa['Outcomes'].str.startswith('Died').astype(int)\n",
      "/tmp/ipykernel_1728/1958287203.py:4: SettingWithCopyWarning: \n",
      "A value is trying to be set on a copy of a slice from a DataFrame.\n",
      "Try using .loc[row_indexer,col_indexer] = value instead\n",
      "\n",
      "See the caveats in the documentation: https://pandas.pydata.org/pandas-docs/stable/user_guide/indexing.html#returning-a-view-versus-a-copy\n",
      "  glp1dfa['cpdf'] = glp1dfa['Compounded Flag'].str.startswith('Yes').astype(int)\n",
      "/tmp/ipykernel_1728/1958287203.py:5: SettingWithCopyWarning: \n",
      "A value is trying to be set on a copy of a slice from a DataFrame.\n",
      "Try using .loc[row_indexer,col_indexer] = value instead\n",
      "\n",
      "See the caveats in the documentation: https://pandas.pydata.org/pandas-docs/stable/user_guide/indexing.html#returning-a-view-versus-a-copy\n",
      "  glp1dfa['age1'] = glp1dfa['Patient Age'].str[:2]\n",
      "/tmp/ipykernel_1728/1958287203.py:6: SettingWithCopyWarning: \n",
      "A value is trying to be set on a copy of a slice from a DataFrame.\n",
      "Try using .loc[row_indexer,col_indexer] = value instead\n",
      "\n",
      "See the caveats in the documentation: https://pandas.pydata.org/pandas-docs/stable/user_guide/indexing.html#returning-a-view-versus-a-copy\n",
      "  glp1dfa['age2'] = pd.to_numeric(glp1dfa['age1'], errors='coerce').fillna(-1).astype('int')\n",
      "/tmp/ipykernel_1728/1958287203.py:7: SettingWithCopyWarning: \n",
      "A value is trying to be set on a copy of a slice from a DataFrame.\n",
      "Try using .loc[row_indexer,col_indexer] = value instead\n",
      "\n",
      "See the caveats in the documentation: https://pandas.pydata.org/pandas-docs/stable/user_guide/indexing.html#returning-a-view-versus-a-copy\n",
      "  glp1dfa['age3'] = glp1dfa['age2'].astype(int)\n"
     ]
    }
   ],
   "source": [
    "glp1dfa['sex2'] = glp1dfa['Sex'].map({'Female':0,'Male':1,'Not Specified':3})\n",
    "glp1dfa['serious2'] = glp1dfa['Serious'].map({'Non-Serious':0,'Serious':1})\n",
    "glp1dfa['died'] = glp1dfa['Outcomes'].str.startswith('Died').astype(int)\n",
    "glp1dfa['cpdf'] = glp1dfa['Compounded Flag'].str.startswith('Yes').astype(int)\n",
    "glp1dfa['age1'] = glp1dfa['Patient Age'].str[:2]\n",
    "glp1dfa['age2'] = pd.to_numeric(glp1dfa['age1'], errors='coerce').fillna(-1).astype('int')\n",
    "glp1dfa['age3'] = glp1dfa['age2'].astype(int)"
   ]
  },
  {
   "cell_type": "code",
   "execution_count": 9,
   "id": "52d409ea",
   "metadata": {},
   "outputs": [
    {
     "name": "stdout",
     "output_type": "stream",
     "text": [
      "age3 is integer: True\n"
     ]
    }
   ],
   "source": [
    "#verify age3 is integer\n",
    "print(f\"age3 is integer: {is_integer_dtype(glp1dfa['age3'])}\")"
   ]
  },
  {
   "cell_type": "code",
   "execution_count": 10,
   "id": "b048ca05-2028-431b-8aa8-7502a2839410",
   "metadata": {
    "execution": {
     "iopub.execute_input": "2025-05-20T03:59:21.288706Z",
     "iopub.status.busy": "2025-05-20T03:59:21.288264Z",
     "iopub.status.idle": "2025-05-20T03:59:21.304010Z",
     "shell.execute_reply": "2025-05-20T03:59:21.303324Z",
     "shell.execute_reply.started": "2025-05-20T03:59:21.288670Z"
    },
    "panel-layout": {
     "height": 428,
     "visible": true,
     "width": 100
    }
   },
   "outputs": [
    {
     "data": {
      "application/vnd.microsoft.datawrangler.viewer.v0+json": {
       "columns": [
        {
         "name": "index",
         "rawType": "int64",
         "type": "integer"
        },
        {
         "name": "Serious",
         "rawType": "object",
         "type": "string"
        },
        {
         "name": "Outcomes",
         "rawType": "object",
         "type": "string"
        },
        {
         "name": "Sex",
         "rawType": "object",
         "type": "string"
        },
        {
         "name": "api1",
         "rawType": "int64",
         "type": "integer"
        },
        {
         "name": "Patient Age",
         "rawType": "object",
         "type": "string"
        },
        {
         "name": "Compounded Flag",
         "rawType": "object",
         "type": "string"
        },
        {
         "name": "sex2",
         "rawType": "int64",
         "type": "integer"
        },
        {
         "name": "serious2",
         "rawType": "int64",
         "type": "integer"
        },
        {
         "name": "died",
         "rawType": "int64",
         "type": "integer"
        },
        {
         "name": "cpdf",
         "rawType": "int64",
         "type": "integer"
        },
        {
         "name": "age1",
         "rawType": "object",
         "type": "string"
        },
        {
         "name": "age2",
         "rawType": "int64",
         "type": "integer"
        },
        {
         "name": "age3",
         "rawType": "int64",
         "type": "integer"
        }
       ],
       "ref": "10a450b0-95d3-49cc-8eec-359de1bb7c54",
       "rows": [
        [
         "0",
         "Non-Serious",
         "Non-Serious",
         "Male",
         "1",
         "80 YR",
         "-",
         "1",
         "0",
         "0",
         "0",
         "80",
         "80",
         "80"
        ],
        [
         "1",
         "Non-Serious",
         "Non-Serious",
         "Female",
         "1",
         "80 YR",
         "-",
         "0",
         "0",
         "0",
         "0",
         "80",
         "80",
         "80"
        ],
        [
         "2",
         "Non-Serious",
         "Non-Serious",
         "Male",
         "1",
         "85 YR",
         "-",
         "1",
         "0",
         "0",
         "0",
         "85",
         "85",
         "85"
        ],
        [
         "3",
         "Serious",
         "Hospitalized",
         "Female",
         "1",
         "71 YR",
         "-",
         "0",
         "1",
         "0",
         "0",
         "71",
         "71",
         "71"
        ],
        [
         "4",
         "Non-Serious",
         "Non-Serious",
         "Female",
         "1",
         "63 YR",
         "-",
         "0",
         "0",
         "0",
         "0",
         "63",
         "63",
         "63"
        ]
       ],
       "shape": {
        "columns": 13,
        "rows": 5
       }
      },
      "text/html": [
       "<div>\n",
       "<style scoped>\n",
       "    .dataframe tbody tr th:only-of-type {\n",
       "        vertical-align: middle;\n",
       "    }\n",
       "\n",
       "    .dataframe tbody tr th {\n",
       "        vertical-align: top;\n",
       "    }\n",
       "\n",
       "    .dataframe thead th {\n",
       "        text-align: right;\n",
       "    }\n",
       "</style>\n",
       "<table border=\"1\" class=\"dataframe\">\n",
       "  <thead>\n",
       "    <tr style=\"text-align: right;\">\n",
       "      <th></th>\n",
       "      <th>Serious</th>\n",
       "      <th>Outcomes</th>\n",
       "      <th>Sex</th>\n",
       "      <th>api1</th>\n",
       "      <th>Patient Age</th>\n",
       "      <th>Compounded Flag</th>\n",
       "      <th>sex2</th>\n",
       "      <th>serious2</th>\n",
       "      <th>died</th>\n",
       "      <th>cpdf</th>\n",
       "      <th>age1</th>\n",
       "      <th>age2</th>\n",
       "      <th>age3</th>\n",
       "    </tr>\n",
       "  </thead>\n",
       "  <tbody>\n",
       "    <tr>\n",
       "      <th>0</th>\n",
       "      <td>Non-Serious</td>\n",
       "      <td>Non-Serious</td>\n",
       "      <td>Male</td>\n",
       "      <td>1</td>\n",
       "      <td>80 YR</td>\n",
       "      <td>-</td>\n",
       "      <td>1</td>\n",
       "      <td>0</td>\n",
       "      <td>0</td>\n",
       "      <td>0</td>\n",
       "      <td>80</td>\n",
       "      <td>80</td>\n",
       "      <td>80</td>\n",
       "    </tr>\n",
       "    <tr>\n",
       "      <th>1</th>\n",
       "      <td>Non-Serious</td>\n",
       "      <td>Non-Serious</td>\n",
       "      <td>Female</td>\n",
       "      <td>1</td>\n",
       "      <td>80 YR</td>\n",
       "      <td>-</td>\n",
       "      <td>0</td>\n",
       "      <td>0</td>\n",
       "      <td>0</td>\n",
       "      <td>0</td>\n",
       "      <td>80</td>\n",
       "      <td>80</td>\n",
       "      <td>80</td>\n",
       "    </tr>\n",
       "    <tr>\n",
       "      <th>2</th>\n",
       "      <td>Non-Serious</td>\n",
       "      <td>Non-Serious</td>\n",
       "      <td>Male</td>\n",
       "      <td>1</td>\n",
       "      <td>85 YR</td>\n",
       "      <td>-</td>\n",
       "      <td>1</td>\n",
       "      <td>0</td>\n",
       "      <td>0</td>\n",
       "      <td>0</td>\n",
       "      <td>85</td>\n",
       "      <td>85</td>\n",
       "      <td>85</td>\n",
       "    </tr>\n",
       "    <tr>\n",
       "      <th>3</th>\n",
       "      <td>Serious</td>\n",
       "      <td>Hospitalized</td>\n",
       "      <td>Female</td>\n",
       "      <td>1</td>\n",
       "      <td>71 YR</td>\n",
       "      <td>-</td>\n",
       "      <td>0</td>\n",
       "      <td>1</td>\n",
       "      <td>0</td>\n",
       "      <td>0</td>\n",
       "      <td>71</td>\n",
       "      <td>71</td>\n",
       "      <td>71</td>\n",
       "    </tr>\n",
       "    <tr>\n",
       "      <th>4</th>\n",
       "      <td>Non-Serious</td>\n",
       "      <td>Non-Serious</td>\n",
       "      <td>Female</td>\n",
       "      <td>1</td>\n",
       "      <td>63 YR</td>\n",
       "      <td>-</td>\n",
       "      <td>0</td>\n",
       "      <td>0</td>\n",
       "      <td>0</td>\n",
       "      <td>0</td>\n",
       "      <td>63</td>\n",
       "      <td>63</td>\n",
       "      <td>63</td>\n",
       "    </tr>\n",
       "  </tbody>\n",
       "</table>\n",
       "</div>"
      ],
      "text/plain": [
       "       Serious      Outcomes     Sex  api1 Patient Age Compounded Flag  sex2  \\\n",
       "0  Non-Serious   Non-Serious    Male     1       80 YR               -     1   \n",
       "1  Non-Serious   Non-Serious  Female     1       80 YR               -     0   \n",
       "2  Non-Serious   Non-Serious    Male     1       85 YR               -     1   \n",
       "3      Serious  Hospitalized  Female     1       71 YR               -     0   \n",
       "4  Non-Serious   Non-Serious  Female     1       63 YR               -     0   \n",
       "\n",
       "   serious2  died  cpdf age1  age2  age3  \n",
       "0         0     0     0   80    80    80  \n",
       "1         0     0     0   80    80    80  \n",
       "2         0     0     0   85    85    85  \n",
       "3         1     0     0   71    71    71  \n",
       "4         0     0     0   63    63    63  "
      ]
     },
     "execution_count": 10,
     "metadata": {},
     "output_type": "execute_result"
    }
   ],
   "source": [
    "glp1dfa.head()"
   ]
  },
  {
   "cell_type": "code",
   "execution_count": 11,
   "id": "aafb07d6-21a0-4cab-a030-b4e4a99aa8e6",
   "metadata": {
    "execution": {
     "iopub.execute_input": "2025-05-20T03:59:32.120850Z",
     "iopub.status.busy": "2025-05-20T03:59:32.120589Z",
     "iopub.status.idle": "2025-05-20T03:59:32.190856Z",
     "shell.execute_reply": "2025-05-20T03:59:32.190199Z",
     "shell.execute_reply.started": "2025-05-20T03:59:32.120831Z"
    }
   },
   "outputs": [
    {
     "name": "stdout",
     "output_type": "stream",
     "text": [
      "<class 'pandas.core.frame.DataFrame'>\n",
      "RangeIndex: 300554 entries, 0 to 300553\n",
      "Data columns (total 13 columns):\n",
      " #   Column           Non-Null Count   Dtype \n",
      "---  ------           --------------   ----- \n",
      " 0   Serious          300554 non-null  object\n",
      " 1   Outcomes         300554 non-null  object\n",
      " 2   Sex              300554 non-null  object\n",
      " 3   api1             300554 non-null  int64 \n",
      " 4   Patient Age      300554 non-null  object\n",
      " 5   Compounded Flag  300554 non-null  object\n",
      " 6   sex2             300554 non-null  int64 \n",
      " 7   serious2         300554 non-null  int64 \n",
      " 8   died             300554 non-null  int64 \n",
      " 9   cpdf             300554 non-null  int64 \n",
      " 10  age1             300554 non-null  object\n",
      " 11  age2             300554 non-null  int64 \n",
      " 12  age3             300554 non-null  int64 \n",
      "dtypes: int64(7), object(6)\n",
      "memory usage: 29.8+ MB\n"
     ]
    }
   ],
   "source": [
    "glp1dfa.info()"
   ]
  },
  {
   "cell_type": "code",
   "execution_count": null,
   "id": "5742cbdc-f103-4526-a2c1-5586ddf8ef27",
   "metadata": {
    "execution": {
     "iopub.execute_input": "2025-05-20T03:59:45.597037Z",
     "iopub.status.busy": "2025-05-20T03:59:45.596762Z",
     "iopub.status.idle": "2025-05-20T03:59:46.420675Z",
     "shell.execute_reply": "2025-05-20T03:59:46.420081Z",
     "shell.execute_reply.started": "2025-05-20T03:59:45.597017Z"
    }
   },
   "outputs": [],
   "source": [
    "#write to csv, used for plotting\n",
    "glp1dfa.to_csv('glp1dfa.csv', index=False)"
   ]
  },
  {
   "cell_type": "markdown",
   "id": "d377749b-bacf-4a03-9e29-bf0d60b70782",
   "metadata": {
    "id": "5dWwtQ1_eZ29",
    "panel-layout": {
     "height": 534.094,
     "visible": true,
     "width": 100
    }
   },
   "source": [
    "# All Data from FDA Adverse Events Reporting System (FAERS)\n",
    "While the FAERS dashboard offers stakeholders many more ways of searching for and organizing data on adverse events reported to the FDA for many drug and biologic products, there remain limitations to the data. For example, while FAERS contains reports on a particular drug or biologic, this does not mean that the drug or biologic caused the adverse event. Importantly, the FAERS data by themselves are not an indicator of the safety profile of the drug or biologic. Some additional limitations to note include:\n",
    "\n",
    "Duplicate and incomplete reports are in the system: There are many instances of duplicative reports and some reports do not contain all the necessary information.\n",
    "Existence of a report does not establish causation: For any given report, there is no certainty that a suspected drug caused the event.  While consumers and healthcare professionals are encouraged to report adverse events, the event may have been related to the underlying disease being treated, or caused by some other drug being taken concurrently, or occurred for other reasons. The information in these reports reflects only the reporter's observations and opinions.\n",
    "Information in reports has not been verified: Submission of a report does not mean that the information included in it has been medically confirmed nor it is an admission from the reporter that the drug caused or contributed the event.\n",
    "Rates of occurrence cannot be established with reports: The information in these reports cannot be used to estimate the incidence (occurrence rates) of the events reported.\n",
    "Patients should talk to their doctor before stopping or changing how they take their medications.\n",
    "Improving data access and transparency are core concepts that drove the development of this FAERS Dashboard.  The FDA anticipates that this increased transparency will help to spur the submission of more detailed and complete reports from consumers, health care providers and other members of the public. Complete and detailed reports are immensely helpful to the agency when identifying safety signals and choosing particular products for further scrutiny."
   ]
  }
 ],
 "metadata": {
  "kernelspec": {
   "display_name": "Python 3",
   "language": "python",
   "name": "python3"
  },
  "language_info": {
   "codemirror_mode": {
    "name": "ipython",
    "version": 3
   },
   "file_extension": ".py",
   "mimetype": "text/x-python",
   "name": "python",
   "nbconvert_exporter": "python",
   "pygments_lexer": "ipython3",
   "version": "3.12.1"
  },
  "panel-cell-order": [
   "762b4ff0-a557-4306-b387-fb28a9f83efe",
   "41ea59fb-846a-4f41-b3a1-72114ee14d3c",
   "31636551-2530-461d-aa3a-1e5e6d65ad24",
   "b5add083-aea6-452b-8e31-a9174e3056dc",
   "b048ca05-2028-431b-8aa8-7502a2839410",
   "ab4290ff-4f3b-4a21-89ad-117b31087c10",
   "434fcd34-556c-4674-86bb-ba861af91899",
   "d377749b-bacf-4a03-9e29-bf0d60b70782",
   "b693c740-e4f3-45a0-a517-e32d97b87c4b",
   "a1be82a8-d5a9-4eb8-b79d-8a8cefa57523",
   "e6ffaa2b-b252-4f47-9fd0-2a191957dedb",
   "a8aefd4f-4116-4d34-baa2-27bc358b66b4",
   "2ce8f826-22ae-499d-b5e8-8099467f85ae"
  ]
 },
 "nbformat": 4,
 "nbformat_minor": 5
}
