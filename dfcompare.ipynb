{
 "cells": [
  {
   "cell_type": "code",
   "execution_count": 2,
   "id": "a08bed90",
   "metadata": {},
   "outputs": [],
   "source": [
    "import pandas as pd"
   ]
  },
  {
   "cell_type": "code",
   "execution_count": 3,
   "id": "df10fc5b",
   "metadata": {},
   "outputs": [],
   "source": [
    "df1 = pd.read_csv('glp1dfa.csv')\n",
    "df2 = pd.read_csv('glp1dfa_test.csv')"
   ]
  },
  {
   "cell_type": "code",
   "execution_count": 4,
   "id": "879e4f1d",
   "metadata": {},
   "outputs": [
    {
     "data": {
      "text/plain": [
       "True"
      ]
     },
     "execution_count": 4,
     "metadata": {},
     "output_type": "execute_result"
    }
   ],
   "source": [
    "df1.equals(df2)"
   ]
  },
  {
   "cell_type": "code",
   "execution_count": 6,
   "id": "33f22939",
   "metadata": {},
   "outputs": [
    {
     "data": {
      "application/vnd.microsoft.datawrangler.viewer.v0+json": {
       "columns": [
        {
         "name": "index",
         "rawType": "int64",
         "type": "integer"
        },
        {
         "name": "Serious",
         "rawType": "object",
         "type": "string"
        },
        {
         "name": "Outcomes",
         "rawType": "object",
         "type": "string"
        },
        {
         "name": "Sex",
         "rawType": "object",
         "type": "string"
        },
        {
         "name": "api1",
         "rawType": "int64",
         "type": "integer"
        },
        {
         "name": "Patient Age",
         "rawType": "object",
         "type": "string"
        },
        {
         "name": "Compounded Flag",
         "rawType": "object",
         "type": "string"
        },
        {
         "name": "sex2",
         "rawType": "int64",
         "type": "integer"
        },
        {
         "name": "serious2",
         "rawType": "int64",
         "type": "integer"
        },
        {
         "name": "died",
         "rawType": "int64",
         "type": "integer"
        },
        {
         "name": "cpdf",
         "rawType": "int64",
         "type": "integer"
        },
        {
         "name": "age1",
         "rawType": "object",
         "type": "string"
        },
        {
         "name": "age2",
         "rawType": "int64",
         "type": "integer"
        },
        {
         "name": "age3",
         "rawType": "int64",
         "type": "integer"
        }
       ],
       "ref": "4c6821d8-c507-4125-8081-02f3d1a3e28d",
       "rows": [
        [
         "0",
         "Non-Serious",
         "Non-Serious",
         "Male",
         "1",
         "80 YR",
         "-",
         "1",
         "0",
         "0",
         "0",
         "80",
         "80",
         "80"
        ],
        [
         "1",
         "Non-Serious",
         "Non-Serious",
         "Female",
         "1",
         "80 YR",
         "-",
         "0",
         "0",
         "0",
         "0",
         "80",
         "80",
         "80"
        ],
        [
         "2",
         "Non-Serious",
         "Non-Serious",
         "Male",
         "1",
         "85 YR",
         "-",
         "1",
         "0",
         "0",
         "0",
         "85",
         "85",
         "85"
        ],
        [
         "3",
         "Serious",
         "Hospitalized",
         "Female",
         "1",
         "71 YR",
         "-",
         "0",
         "1",
         "0",
         "0",
         "71",
         "71",
         "71"
        ],
        [
         "4",
         "Non-Serious",
         "Non-Serious",
         "Female",
         "1",
         "63 YR",
         "-",
         "0",
         "0",
         "0",
         "0",
         "63",
         "63",
         "63"
        ]
       ],
       "shape": {
        "columns": 13,
        "rows": 5
       }
      },
      "text/html": [
       "<div>\n",
       "<style scoped>\n",
       "    .dataframe tbody tr th:only-of-type {\n",
       "        vertical-align: middle;\n",
       "    }\n",
       "\n",
       "    .dataframe tbody tr th {\n",
       "        vertical-align: top;\n",
       "    }\n",
       "\n",
       "    .dataframe thead th {\n",
       "        text-align: right;\n",
       "    }\n",
       "</style>\n",
       "<table border=\"1\" class=\"dataframe\">\n",
       "  <thead>\n",
       "    <tr style=\"text-align: right;\">\n",
       "      <th></th>\n",
       "      <th>Serious</th>\n",
       "      <th>Outcomes</th>\n",
       "      <th>Sex</th>\n",
       "      <th>api1</th>\n",
       "      <th>Patient Age</th>\n",
       "      <th>Compounded Flag</th>\n",
       "      <th>sex2</th>\n",
       "      <th>serious2</th>\n",
       "      <th>died</th>\n",
       "      <th>cpdf</th>\n",
       "      <th>age1</th>\n",
       "      <th>age2</th>\n",
       "      <th>age3</th>\n",
       "    </tr>\n",
       "  </thead>\n",
       "  <tbody>\n",
       "    <tr>\n",
       "      <th>0</th>\n",
       "      <td>Non-Serious</td>\n",
       "      <td>Non-Serious</td>\n",
       "      <td>Male</td>\n",
       "      <td>1</td>\n",
       "      <td>80 YR</td>\n",
       "      <td>-</td>\n",
       "      <td>1</td>\n",
       "      <td>0</td>\n",
       "      <td>0</td>\n",
       "      <td>0</td>\n",
       "      <td>80</td>\n",
       "      <td>80</td>\n",
       "      <td>80</td>\n",
       "    </tr>\n",
       "    <tr>\n",
       "      <th>1</th>\n",
       "      <td>Non-Serious</td>\n",
       "      <td>Non-Serious</td>\n",
       "      <td>Female</td>\n",
       "      <td>1</td>\n",
       "      <td>80 YR</td>\n",
       "      <td>-</td>\n",
       "      <td>0</td>\n",
       "      <td>0</td>\n",
       "      <td>0</td>\n",
       "      <td>0</td>\n",
       "      <td>80</td>\n",
       "      <td>80</td>\n",
       "      <td>80</td>\n",
       "    </tr>\n",
       "    <tr>\n",
       "      <th>2</th>\n",
       "      <td>Non-Serious</td>\n",
       "      <td>Non-Serious</td>\n",
       "      <td>Male</td>\n",
       "      <td>1</td>\n",
       "      <td>85 YR</td>\n",
       "      <td>-</td>\n",
       "      <td>1</td>\n",
       "      <td>0</td>\n",
       "      <td>0</td>\n",
       "      <td>0</td>\n",
       "      <td>85</td>\n",
       "      <td>85</td>\n",
       "      <td>85</td>\n",
       "    </tr>\n",
       "    <tr>\n",
       "      <th>3</th>\n",
       "      <td>Serious</td>\n",
       "      <td>Hospitalized</td>\n",
       "      <td>Female</td>\n",
       "      <td>1</td>\n",
       "      <td>71 YR</td>\n",
       "      <td>-</td>\n",
       "      <td>0</td>\n",
       "      <td>1</td>\n",
       "      <td>0</td>\n",
       "      <td>0</td>\n",
       "      <td>71</td>\n",
       "      <td>71</td>\n",
       "      <td>71</td>\n",
       "    </tr>\n",
       "    <tr>\n",
       "      <th>4</th>\n",
       "      <td>Non-Serious</td>\n",
       "      <td>Non-Serious</td>\n",
       "      <td>Female</td>\n",
       "      <td>1</td>\n",
       "      <td>63 YR</td>\n",
       "      <td>-</td>\n",
       "      <td>0</td>\n",
       "      <td>0</td>\n",
       "      <td>0</td>\n",
       "      <td>0</td>\n",
       "      <td>63</td>\n",
       "      <td>63</td>\n",
       "      <td>63</td>\n",
       "    </tr>\n",
       "  </tbody>\n",
       "</table>\n",
       "</div>"
      ],
      "text/plain": [
       "       Serious      Outcomes     Sex  api1 Patient Age Compounded Flag  sex2  \\\n",
       "0  Non-Serious   Non-Serious    Male     1       80 YR               -     1   \n",
       "1  Non-Serious   Non-Serious  Female     1       80 YR               -     0   \n",
       "2  Non-Serious   Non-Serious    Male     1       85 YR               -     1   \n",
       "3      Serious  Hospitalized  Female     1       71 YR               -     0   \n",
       "4  Non-Serious   Non-Serious  Female     1       63 YR               -     0   \n",
       "\n",
       "   serious2  died  cpdf age1  age2  age3  \n",
       "0         0     0     0   80    80    80  \n",
       "1         0     0     0   80    80    80  \n",
       "2         0     0     0   85    85    85  \n",
       "3         1     0     0   71    71    71  \n",
       "4         0     0     0   63    63    63  "
      ]
     },
     "execution_count": 6,
     "metadata": {},
     "output_type": "execute_result"
    }
   ],
   "source": [
    "df1.head()"
   ]
  },
  {
   "cell_type": "code",
   "execution_count": 7,
   "id": "86aa6f15",
   "metadata": {},
   "outputs": [
    {
     "data": {
      "application/vnd.microsoft.datawrangler.viewer.v0+json": {
       "columns": [
        {
         "name": "index",
         "rawType": "int64",
         "type": "integer"
        },
        {
         "name": "Serious",
         "rawType": "object",
         "type": "string"
        },
        {
         "name": "Outcomes",
         "rawType": "object",
         "type": "string"
        },
        {
         "name": "Sex",
         "rawType": "object",
         "type": "string"
        },
        {
         "name": "api1",
         "rawType": "int64",
         "type": "integer"
        },
        {
         "name": "Patient Age",
         "rawType": "object",
         "type": "string"
        },
        {
         "name": "Compounded Flag",
         "rawType": "object",
         "type": "string"
        },
        {
         "name": "sex2",
         "rawType": "int64",
         "type": "integer"
        },
        {
         "name": "serious2",
         "rawType": "int64",
         "type": "integer"
        },
        {
         "name": "died",
         "rawType": "int64",
         "type": "integer"
        },
        {
         "name": "cpdf",
         "rawType": "int64",
         "type": "integer"
        },
        {
         "name": "age1",
         "rawType": "object",
         "type": "string"
        },
        {
         "name": "age2",
         "rawType": "int64",
         "type": "integer"
        },
        {
         "name": "age3",
         "rawType": "int64",
         "type": "integer"
        }
       ],
       "ref": "9f868e84-758e-4f41-91c7-a5a9e9543808",
       "rows": [
        [
         "0",
         "Non-Serious",
         "Non-Serious",
         "Male",
         "1",
         "80 YR",
         "-",
         "1",
         "0",
         "0",
         "0",
         "80",
         "80",
         "80"
        ],
        [
         "1",
         "Non-Serious",
         "Non-Serious",
         "Female",
         "1",
         "80 YR",
         "-",
         "0",
         "0",
         "0",
         "0",
         "80",
         "80",
         "80"
        ],
        [
         "2",
         "Non-Serious",
         "Non-Serious",
         "Male",
         "1",
         "85 YR",
         "-",
         "1",
         "0",
         "0",
         "0",
         "85",
         "85",
         "85"
        ],
        [
         "3",
         "Serious",
         "Hospitalized",
         "Female",
         "1",
         "71 YR",
         "-",
         "0",
         "1",
         "0",
         "0",
         "71",
         "71",
         "71"
        ],
        [
         "4",
         "Non-Serious",
         "Non-Serious",
         "Female",
         "1",
         "63 YR",
         "-",
         "0",
         "0",
         "0",
         "0",
         "63",
         "63",
         "63"
        ]
       ],
       "shape": {
        "columns": 13,
        "rows": 5
       }
      },
      "text/html": [
       "<div>\n",
       "<style scoped>\n",
       "    .dataframe tbody tr th:only-of-type {\n",
       "        vertical-align: middle;\n",
       "    }\n",
       "\n",
       "    .dataframe tbody tr th {\n",
       "        vertical-align: top;\n",
       "    }\n",
       "\n",
       "    .dataframe thead th {\n",
       "        text-align: right;\n",
       "    }\n",
       "</style>\n",
       "<table border=\"1\" class=\"dataframe\">\n",
       "  <thead>\n",
       "    <tr style=\"text-align: right;\">\n",
       "      <th></th>\n",
       "      <th>Serious</th>\n",
       "      <th>Outcomes</th>\n",
       "      <th>Sex</th>\n",
       "      <th>api1</th>\n",
       "      <th>Patient Age</th>\n",
       "      <th>Compounded Flag</th>\n",
       "      <th>sex2</th>\n",
       "      <th>serious2</th>\n",
       "      <th>died</th>\n",
       "      <th>cpdf</th>\n",
       "      <th>age1</th>\n",
       "      <th>age2</th>\n",
       "      <th>age3</th>\n",
       "    </tr>\n",
       "  </thead>\n",
       "  <tbody>\n",
       "    <tr>\n",
       "      <th>0</th>\n",
       "      <td>Non-Serious</td>\n",
       "      <td>Non-Serious</td>\n",
       "      <td>Male</td>\n",
       "      <td>1</td>\n",
       "      <td>80 YR</td>\n",
       "      <td>-</td>\n",
       "      <td>1</td>\n",
       "      <td>0</td>\n",
       "      <td>0</td>\n",
       "      <td>0</td>\n",
       "      <td>80</td>\n",
       "      <td>80</td>\n",
       "      <td>80</td>\n",
       "    </tr>\n",
       "    <tr>\n",
       "      <th>1</th>\n",
       "      <td>Non-Serious</td>\n",
       "      <td>Non-Serious</td>\n",
       "      <td>Female</td>\n",
       "      <td>1</td>\n",
       "      <td>80 YR</td>\n",
       "      <td>-</td>\n",
       "      <td>0</td>\n",
       "      <td>0</td>\n",
       "      <td>0</td>\n",
       "      <td>0</td>\n",
       "      <td>80</td>\n",
       "      <td>80</td>\n",
       "      <td>80</td>\n",
       "    </tr>\n",
       "    <tr>\n",
       "      <th>2</th>\n",
       "      <td>Non-Serious</td>\n",
       "      <td>Non-Serious</td>\n",
       "      <td>Male</td>\n",
       "      <td>1</td>\n",
       "      <td>85 YR</td>\n",
       "      <td>-</td>\n",
       "      <td>1</td>\n",
       "      <td>0</td>\n",
       "      <td>0</td>\n",
       "      <td>0</td>\n",
       "      <td>85</td>\n",
       "      <td>85</td>\n",
       "      <td>85</td>\n",
       "    </tr>\n",
       "    <tr>\n",
       "      <th>3</th>\n",
       "      <td>Serious</td>\n",
       "      <td>Hospitalized</td>\n",
       "      <td>Female</td>\n",
       "      <td>1</td>\n",
       "      <td>71 YR</td>\n",
       "      <td>-</td>\n",
       "      <td>0</td>\n",
       "      <td>1</td>\n",
       "      <td>0</td>\n",
       "      <td>0</td>\n",
       "      <td>71</td>\n",
       "      <td>71</td>\n",
       "      <td>71</td>\n",
       "    </tr>\n",
       "    <tr>\n",
       "      <th>4</th>\n",
       "      <td>Non-Serious</td>\n",
       "      <td>Non-Serious</td>\n",
       "      <td>Female</td>\n",
       "      <td>1</td>\n",
       "      <td>63 YR</td>\n",
       "      <td>-</td>\n",
       "      <td>0</td>\n",
       "      <td>0</td>\n",
       "      <td>0</td>\n",
       "      <td>0</td>\n",
       "      <td>63</td>\n",
       "      <td>63</td>\n",
       "      <td>63</td>\n",
       "    </tr>\n",
       "  </tbody>\n",
       "</table>\n",
       "</div>"
      ],
      "text/plain": [
       "       Serious      Outcomes     Sex  api1 Patient Age Compounded Flag  sex2  \\\n",
       "0  Non-Serious   Non-Serious    Male     1       80 YR               -     1   \n",
       "1  Non-Serious   Non-Serious  Female     1       80 YR               -     0   \n",
       "2  Non-Serious   Non-Serious    Male     1       85 YR               -     1   \n",
       "3      Serious  Hospitalized  Female     1       71 YR               -     0   \n",
       "4  Non-Serious   Non-Serious  Female     1       63 YR               -     0   \n",
       "\n",
       "   serious2  died  cpdf age1  age2  age3  \n",
       "0         0     0     0   80    80    80  \n",
       "1         0     0     0   80    80    80  \n",
       "2         0     0     0   85    85    85  \n",
       "3         1     0     0   71    71    71  \n",
       "4         0     0     0   63    63    63  "
      ]
     },
     "execution_count": 7,
     "metadata": {},
     "output_type": "execute_result"
    }
   ],
   "source": [
    "df2.head()"
   ]
  },
  {
   "cell_type": "code",
   "execution_count": null,
   "id": "86b36606",
   "metadata": {},
   "outputs": [],
   "source": []
  }
 ],
 "metadata": {
  "kernelspec": {
   "display_name": "Python 3",
   "language": "python",
   "name": "python3"
  },
  "language_info": {
   "codemirror_mode": {
    "name": "ipython",
    "version": 3
   },
   "file_extension": ".py",
   "mimetype": "text/x-python",
   "name": "python",
   "nbconvert_exporter": "python",
   "pygments_lexer": "ipython3",
   "version": "3.12.1"
  }
 },
 "nbformat": 4,
 "nbformat_minor": 5
}
